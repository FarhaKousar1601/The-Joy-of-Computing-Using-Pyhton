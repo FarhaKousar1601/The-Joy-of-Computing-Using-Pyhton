{
 "cells": [
  {
   "cell_type": "markdown",
   "metadata": {},
   "source": [
    "# <center><b>WEEK - 11</b></center>\n",
    "\n",
    "\n",
    "<br><br><br>\n"
   ]
  },
  {
   "cell_type": "markdown",
   "metadata": {},
   "source": [
    "---\n",
    "---\n",
    "\n",
    "# <b>Browser Automation Whatsapp using Python</b><br>\n",
    "\n",
    "---\n",
    "\n",
    "---\n"
   ]
  },
  {
   "cell_type": "markdown",
   "metadata": {},
   "source": [
    "![COMPLETED TOPICS TOPOLOGY](image.png)\n"
   ]
  },
  {
   "cell_type": "markdown",
   "metadata": {},
   "source": [
    "![WHATSAPP BROWSER AUTOMATION](image-1.png)\n"
   ]
  },
  {
   "cell_type": "markdown",
   "metadata": {},
   "source": [
    "<b><u>Requirements</u>:</b>\n",
    "\n",
    "Install selenium library for this section by runnig this command in the terminal. <br>\n",
    "<code>pip install selenium</code>\n",
    "\n",
    "<b>NOTE: </b><i>Selenium is the open-source test automated tool to test web-based UI which supports many different languages like Java, Python, Perl, PHP, Ruby, and C#.</i>\n",
    "\n",
    "\n",
    "Next step is to download the web driver of your web browser(let it be chrome, edge, mozilla etc.) <br>\n",
    "\n",
    "[Link for Chrome Web Driver](https://chromedriver.chromium.org/downloads) <br>\n",
    "Download the same version of the web driver as per your web browser version.\n"
   ]
  },
  {
   "cell_type": "markdown",
   "metadata": {},
   "source": [
    "### <u>A Brief Overview of Working of selenium:</u>"
   ]
  },
  {
   "cell_type": "code",
   "execution_count": null,
   "metadata": {},
   "outputs": [],
   "source": [
    "from selenium import webdriver\n",
    "from selenium.webdriver.chrome.service import Service\n",
    "from webdriver_manager.chrome import ChromeDriverManager\n",
    "\n",
    "# Create a webdriver instance using ChromeDriverManager\n",
    "driver = webdriver.Chrome(service=Service(ChromeDriverManager().install()))\n",
    "\n",
    "\n",
    "# For opening the particular website in the Google Chrome with the URl:\n",
    "# This command will navigate to the Selenium website:\n",
    "driver.get(\"https://selenium.dev/\")\n",
    "\n",
    "# Finding any element on the web page:\n",
    "# In this case: Download\n",
    "# element = browser.find_element_by_link_text('Downloads')       # Deprecated\n",
    "element = driver.find_element('Downloads')\n",
    "\n",
    "# This will open Downloads page by clicking on the \"Downloads\" element\n",
    "element.click()\n",
    "\n",
    "# Find the search input element by its ID\n",
    "search = driver.find_element(\"id\", \"docsearch\")\n",
    "\n",
    "# Send keys to the search input element\n",
    "search.send_keys('https://selenium.dev/')"
   ]
  },
  {
   "cell_type": "markdown",
   "metadata": {},
   "source": [
    "### <u>Sending Message to WhatsApp Chat:</u>"
   ]
  },
  {
   "cell_type": "code",
   "execution_count": null,
   "metadata": {},
   "outputs": [],
   "source": [
    "import time\n",
    "from selenium import webdriver\n",
    "from selenium.webdriver.common.by import By\n",
    "from selenium.webdriver.common.keys import Keys\n",
    "from selenium.webdriver.chrome.service import Service\n",
    "from selenium.webdriver.support.ui import WebDriverWait\n",
    "from webdriver_manager.chrome import ChromeDriverManager\n",
    "from selenium.webdriver.support import expected_conditions as EC\n",
    "\n",
    "driver = webdriver.Chrome(service = Service(ChromeDriverManager().install()))\n",
    "\n",
    "# Opening the Web Whatsapp:\n",
    "driver.get(\"https://web.whatsapp.com/\")\n",
    "wait = WebDriverWait(driver, 600)\n",
    "\n",
    "# Define Target Frame to whom to send the messages:\n",
    "target = ' \"AVINASH YADAV\" '\n",
    "\n",
    "# Typing the messgae:\n",
    "message = \"Message Sent By Python Automation.\"\n",
    "\n",
    "# Since we'll not get the DIV tag in the web version of the target name \n",
    "# Therefore we'll use the SPAN approach:\n",
    "x_arg = '//span[contains@title, '+ target + ')]'\n",
    "target = wait.until(EC.presence_of_element_located((By.XPATH, x_arg)))\n",
    "target.click()\n",
    "\n",
    "\n",
    "input_box = driver.find_element('1Plpp')\n",
    "for i in range(50):\n",
    "    input_box.send_keys(message+Keys.ENTER)\n"
   ]
  },
  {
   "cell_type": "markdown",
   "metadata": {},
   "source": [
    "<br><br><br><br><br><br><br>\n",
    "\n",
    "\n",
    "\n",
    "---\n",
    "---\n",
    "\n",
    "# <b>Fun with Calendar: Calendar Arithmetic 🗓️</b><br>\n",
    "\n",
    "---\n",
    "\n",
    "---\n"
   ]
  },
  {
   "cell_type": "markdown",
   "metadata": {},
   "source": [
    "## "
   ]
  },
  {
   "cell_type": "markdown",
   "metadata": {},
   "source": [
    "![REQUIRED LIBRARIES](image-2.png)"
   ]
  },
  {
   "cell_type": "markdown",
   "metadata": {},
   "source": [
    "## <u>An overview of datetime Library:</u>"
   ]
  },
  {
   "cell_type": "code",
   "execution_count": 60,
   "metadata": {},
   "outputs": [
    {
     "name": "stdout",
     "output_type": "stream",
     "text": [
      "\n",
      "Current Time is:  2023-10-02 17:53:52.975429\n",
      "\n",
      "\n",
      "Time Zone of India:  2023-10-02 17:53:52.976445+05:30\n",
      "Time Zone of Singapore:  2023-10-02 20:23:52.976445+08:00\n",
      "\n",
      "\n",
      "Total Number of all time zones is:  596\n"
     ]
    }
   ],
   "source": [
    "from datetime import datetime as dt\n",
    "import pytz             # Python's TimeZone Library\n",
    "\n",
    "# Fetching the Current time from the system:        \n",
    "#dt.now()                # OUTPUT:   datetime.datetime(2023, 10, 2, 17, 53, 52, 975429)\n",
    "print()\n",
    "print(\"Current Time is: \", dt.now())\n",
    "print()\n",
    "print()\n",
    "\n",
    "\n",
    "\n",
    "# TimeAZone of particular Countries:\n",
    "tz1 = pytz.timezone('Asia/Kolkata')\n",
    "print(\"Time Zone of India: \", dt.now(tz1))\n",
    "\n",
    "tz2 = pytz.timezone('Asia/Singapore')\n",
    "print(\"Time Zone of Singapore: \", dt.now(tz2))\n",
    "print()\n",
    "print()\n",
    "\n",
    "\n",
    "\n",
    "# To print List of all time zones:\n",
    "#print(\"List of all time zones: \")\n",
    "#print(pytz.all_timezones)\n",
    "\n",
    "print(\"Total Number of all time zones is: \", len(pytz.all_timezones))\n",
    "\n",
    "\n",
    "\n"
   ]
  },
  {
   "cell_type": "markdown",
   "metadata": {},
   "source": [
    "<br><br><br>"
   ]
  },
  {
   "cell_type": "markdown",
   "metadata": {},
   "source": [
    "![TASK - 01](image-3.png)"
   ]
  },
  {
   "cell_type": "markdown",
   "metadata": {},
   "source": [
    "### Given a date how would you know on what day of the week it falls."
   ]
  },
  {
   "cell_type": "markdown",
   "metadata": {},
   "source": [
    "![PROCEDURES](image-4.png)"
   ]
  },
  {
   "cell_type": "markdown",
   "metadata": {},
   "source": [
    "![MONTHS CONDITION - 01](image-5.png)"
   ]
  },
  {
   "cell_type": "markdown",
   "metadata": {},
   "source": [
    "![LEAP YEAR](image-6.png)"
   ]
  },
  {
   "cell_type": "markdown",
   "metadata": {},
   "source": [
    "![MONTHS CONDITION - 02](image-7.png)"
   ]
  },
  {
   "cell_type": "markdown",
   "metadata": {},
   "source": [
    "![MONTHS CONDITION - 03](image-8.png)"
   ]
  },
  {
   "cell_type": "markdown",
   "metadata": {},
   "source": [
    "## FOR MORE INFORMATION:\n",
    "🔗 [General calendar-related functions](https://docs.python.org/3/library/calendar.html)\n",
    "<br><br><br>"
   ]
  },
  {
   "cell_type": "code",
   "execution_count": 42,
   "metadata": {},
   "outputs": [
    {
     "name": "stdout",
     "output_type": "stream",
     "text": [
      "\u001b[1;31mSignature:\u001b[0m \u001b[0mcalendar\u001b[0m\u001b[1;33m.\u001b[0m\u001b[0mweekday\u001b[0m\u001b[1;33m(\u001b[0m\u001b[0myear\u001b[0m\u001b[1;33m,\u001b[0m \u001b[0mmonth\u001b[0m\u001b[1;33m,\u001b[0m \u001b[0mday\u001b[0m\u001b[1;33m)\u001b[0m\u001b[1;33m\u001b[0m\u001b[1;33m\u001b[0m\u001b[0m\n",
      "\u001b[1;31mDocstring:\u001b[0m Return weekday (0-6 ~ Mon-Sun) for year, month (1-12), day (1-31).\n",
      "\u001b[1;31mFile:\u001b[0m      c:\\users\\avina\\appdata\\local\\programs\\python\\python311\\lib\\calendar.py\n",
      "\u001b[1;31mType:\u001b[0m      function"
     ]
    }
   ],
   "source": [
    "import calendar\n",
    "calendar.weekday?"
   ]
  },
  {
   "cell_type": "code",
   "execution_count": 44,
   "metadata": {},
   "outputs": [
    {
     "data": {
      "text/plain": [
       "6"
      ]
     },
     "execution_count": 44,
     "metadata": {},
     "output_type": "execute_result"
    }
   ],
   "source": [
    "import calendar\n",
    "\n",
    "calendar.weekday(2023, 12, 31)          # (0-6 ~ Mon-Sun)"
   ]
  },
  {
   "cell_type": "code",
   "execution_count": 50,
   "metadata": {},
   "outputs": [
    {
     "name": "stdout",
     "output_type": "stream",
     "text": [
      "25 - 4 - 2000 falls on: Tuesday\n"
     ]
    }
   ],
   "source": [
    "import calendar\n",
    "\n",
    "\n",
    "# ---------------------------------------------------------------------------------------------------\n",
    "\n",
    "\n",
    "# Function for Checking the leap year:\n",
    "def check_leap(year):\n",
    "    if year%100 == 0:\n",
    "        if year%400 == 0:\n",
    "            return True\n",
    "        else:\n",
    "            return False\n",
    "        \n",
    "    else:\n",
    "        if year%4 == 0:\n",
    "            return True\n",
    "        else:\n",
    "            return False\n",
    "\n",
    "\n",
    "# ---------------------------------------------------------------------------------------------------\n",
    "        \n",
    "    \n",
    "# Function for Checking the validity of the entered date:\n",
    "def check_valid_date(date, month, year, leap):\n",
    "    # When Entered Year is a Leap Year\n",
    "    if leap:\n",
    "        # For the month of February:\n",
    "        if month == 2:\n",
    "            if date <= 29:\n",
    "                return True\n",
    "            else:\n",
    "                return False\n",
    "        \n",
    "        # For other months:\n",
    "        else:\n",
    "            # When the enterd month is till July:\n",
    "            if month <= 7:\n",
    "                # For ODD position of the Month:\n",
    "                if month % 2 == 1:\n",
    "                    if date <= 31:\n",
    "                        return True\n",
    "                    else:\n",
    "                        return False\n",
    "                \n",
    "                # For EVEN position of the Month:\n",
    "                else:\n",
    "                    if date <= 30:\n",
    "                        return True\n",
    "                    else:\n",
    "                        return False\n",
    "            \n",
    "            # When the enterd month is From August:\n",
    "            else:\n",
    "                # For EVEN position of the Month:\n",
    "                if month % 2 == 0:\n",
    "                    if date <= 31:\n",
    "                        return True\n",
    "                    else:\n",
    "                        return False\n",
    "                \n",
    "                # For ODD position of the Month:\n",
    "                else:\n",
    "                    if date <= 30:\n",
    "                        return True\n",
    "                    else:\n",
    "                        return False\n",
    "        \n",
    "        \n",
    "    # When Entered Year is not a Leap Year:\n",
    "    else:\n",
    "                # For the month of February:\n",
    "        if month == 2:\n",
    "            if date <= 28:\n",
    "                return True\n",
    "            else:\n",
    "                return False\n",
    "        \n",
    "        # For other months:\n",
    "        else:\n",
    "            # When the enterd month is till July:\n",
    "            if month <= 7:\n",
    "                # For ODD position of the Month:\n",
    "                if month % 2 == 1:\n",
    "                    if date <= 31:\n",
    "                        return True\n",
    "                    else:\n",
    "                        return False\n",
    "                \n",
    "                # For EVEN position of the Month:\n",
    "                else:\n",
    "                    if date <= 30:\n",
    "                        return True\n",
    "                    else:\n",
    "                        return False\n",
    "            \n",
    "            # When the enterd month is From August:\n",
    "            else:\n",
    "                # For EVEN position of the Month:\n",
    "                if month % 2 == 0:\n",
    "                    if date <= 31:\n",
    "                        return True\n",
    "                    else:\n",
    "                        return False\n",
    "                \n",
    "                # For ODD position of the Month:\n",
    "                else:\n",
    "                    if date <= 30:\n",
    "                        return True\n",
    "                    else:\n",
    "                        return False                \n",
    "\n",
    "\n",
    "# ---------------------------------------------------------------------------------------------------\n",
    "\n",
    "\n",
    "# Function for getting the weekday from index of the day:\n",
    "def get_day(day_index):\n",
    "    list_of_days = ['Monday', 'Tuesday', 'Wednesday', 'Thursday', 'Friday', 'Saturday', 'Sunday']\n",
    "    return list_of_days[day_index]\n",
    "\n",
    "\n",
    "# ---------------------------------------------------------------------------------------------------\n",
    "\n",
    "\n",
    "# Taking input for year:\n",
    "year = int(input(\"Enter Year: \"))\n",
    "\n",
    "\n",
    "\n",
    "# Taking input for month:\n",
    "while True:\n",
    "    month = int(input(\"Enter Month(1-12): \"))\n",
    "    \n",
    "    if(month >= 1 and month <= 12):\n",
    "        break\n",
    "    else:\n",
    "        print(\"Please Enter a valid Month!!\")\n",
    "        print()\n",
    "\n",
    "\n",
    "\n",
    "# Calling the function to check  for the leap year:\n",
    "leap = check_leap(year)\n",
    "\n",
    "\n",
    "\n",
    "# Taking input for date:\n",
    "while True:\n",
    "    date = int(input(\"Enter date: \"))\n",
    "    \n",
    "    if date > 0 and check_valid_date(date, month, year, leap):\n",
    "        break\n",
    "    else:\n",
    "        print(\"Please Enter a valid date!!\")\n",
    "        print()\n",
    "\n",
    "\n",
    "# ---------------------------------------------------------------------------------------------------\n",
    "\n",
    "\n",
    "# Weekday notations:   0 - 6 ~ Mon - Sun\n",
    "day_index = calendar.weekday(year, month, date)\n",
    "day = get_day(day_index)\n",
    "\n",
    "print(date, \"-\", month, \"-\", year, \"falls on:\", day)"
   ]
  },
  {
   "cell_type": "markdown",
   "metadata": {},
   "source": [
    "<br><br>\n",
    "\n",
    "----------------------------------\n",
    "---------------------------------\n",
    "\n",
    "<br><br>\n"
   ]
  },
  {
   "cell_type": "markdown",
   "metadata": {},
   "source": [
    "![TASK - 02](image-9.png)"
   ]
  },
  {
   "cell_type": "code",
   "execution_count": null,
   "metadata": {},
   "outputs": [],
   "source": [
    "from datetime import datetime as dt\n",
    "import pytz\n",
    "\n",
    "# List of all the timezones:\n",
    "time_zones = pytz.all_timezones\n",
    "\n",
    "# Iterating over timezone list:\n",
    "for i in range(len(time_zones)):\n",
    "    # Current zone where i'm standing:\n",
    "    zone = time_zones[i]\n",
    "    \n",
    "    # Creating timezone instant or object:\n",
    "    tz = pytz.timezone(zone)\n",
    "    \n",
    "    # Printing the Current time of all the timezones one by one:\n",
    "    print(f\"Current time at TimeZone {zone} is {dt.now(tz)}\")"
   ]
  },
  {
   "cell_type": "markdown",
   "metadata": {},
   "source": [
    "<br><br><br><br><br><br><br><br>\n",
    "\n",
    "---\n",
    "\n",
    "---\n",
    "\n",
    "> <br><br><br><br>\n",
    ">\n",
    "> # <center><b>Week 11: Assignment</b></center>\n",
    ">\n",
    "> <br><br><br><br>\n",
    "\n",
    "---\n",
    "\n",
    "---\n"
   ]
  },
  {
   "cell_type": "markdown",
   "metadata": {},
   "source": [
    "## <center><b>QUESTION - 01</b></center>"
   ]
  },
  {
   "cell_type": "markdown",
   "metadata": {},
   "source": [
    "# C"
   ]
  },
  {
   "cell_type": "markdown",
   "metadata": {},
   "source": [
    "## <center><b>QUESTION - 02</b></center>"
   ]
  },
  {
   "cell_type": "markdown",
   "metadata": {},
   "source": [
    "# A"
   ]
  },
  {
   "cell_type": "code",
   "execution_count": 12,
   "metadata": {},
   "outputs": [
    {
     "name": "stdout",
     "output_type": "stream",
     "text": [
      "1696251285.5434675\n"
     ]
    }
   ],
   "source": [
    "import time\n",
    "\n",
    "timestamp = time.time()\n",
    "print(timestamp)\n"
   ]
  },
  {
   "cell_type": "markdown",
   "metadata": {},
   "source": [
    "## <center><b>QUESTION - 03</b></center>"
   ]
  },
  {
   "cell_type": "markdown",
   "metadata": {},
   "source": [
    "# D"
   ]
  },
  {
   "cell_type": "markdown",
   "metadata": {},
   "source": [
    "## <center><b>QUESTION - 04</b></center>"
   ]
  },
  {
   "cell_type": "markdown",
   "metadata": {},
   "source": [
    "# D"
   ]
  },
  {
   "cell_type": "code",
   "execution_count": 3,
   "metadata": {},
   "outputs": [
    {
     "name": "stdout",
     "output_type": "stream",
     "text": [
      "2023-10-02 18:08:02.414034\n"
     ]
    }
   ],
   "source": [
    "from datetime import datetime as dt\n",
    "\n",
    "print(dt.now())"
   ]
  },
  {
   "cell_type": "markdown",
   "metadata": {},
   "source": [
    "## <center><b>QUESTION - 05</b></center>"
   ]
  },
  {
   "cell_type": "markdown",
   "metadata": {},
   "source": [
    "# TRUE"
   ]
  },
  {
   "cell_type": "markdown",
   "metadata": {},
   "source": [
    "## <center><b>QUESTION - 06</b></center>"
   ]
  },
  {
   "cell_type": "markdown",
   "metadata": {},
   "source": [
    "# A"
   ]
  },
  {
   "cell_type": "code",
   "execution_count": null,
   "metadata": {},
   "outputs": [],
   "source": [
    "import pytz\n",
    "from datetime import datetime as dt\n",
    "\n",
    "zone = pytz.all_timezones\n",
    "\n",
    "for i in range(len(zone)):\n",
    "    print(dt.now(pytz.timezone(zone[i])))"
   ]
  },
  {
   "cell_type": "markdown",
   "metadata": {},
   "source": [
    "## <center><b>QUESTION - 07</b></center>"
   ]
  },
  {
   "cell_type": "markdown",
   "metadata": {},
   "source": [
    "# C"
   ]
  },
  {
   "cell_type": "code",
   "execution_count": 8,
   "metadata": {},
   "outputs": [
    {
     "data": {
      "text/plain": [
       "4"
      ]
     },
     "execution_count": 8,
     "metadata": {},
     "output_type": "execute_result"
    }
   ],
   "source": [
    "from datetime import datetime as dt\n",
    "import calendar\n",
    "\n",
    "# 10 December 2021(Friday)\n",
    "calendar.weekday(2021, 12, 10)\n",
    "\n",
    "# day = dt.today()\n",
    "# print(day.weekday())"
   ]
  },
  {
   "cell_type": "markdown",
   "metadata": {},
   "source": [
    "## <center><b>QUESTION - 08</b></center>"
   ]
  },
  {
   "cell_type": "markdown",
   "metadata": {},
   "source": [
    "# C"
   ]
  },
  {
   "cell_type": "code",
   "execution_count": 10,
   "metadata": {},
   "outputs": [
    {
     "name": "stdout",
     "output_type": "stream",
     "text": [
      "                                  2023\n",
      "\n",
      "      January                   February                   March\n",
      "Mo Tu We Th Fr Sa Su      Mo Tu We Th Fr Sa Su      Mo Tu We Th Fr Sa Su\n",
      "                   1             1  2  3  4  5             1  2  3  4  5\n",
      " 2  3  4  5  6  7  8       6  7  8  9 10 11 12       6  7  8  9 10 11 12\n",
      " 9 10 11 12 13 14 15      13 14 15 16 17 18 19      13 14 15 16 17 18 19\n",
      "16 17 18 19 20 21 22      20 21 22 23 24 25 26      20 21 22 23 24 25 26\n",
      "23 24 25 26 27 28 29      27 28                     27 28 29 30 31\n",
      "30 31\n",
      "\n",
      "       April                      May                       June\n",
      "Mo Tu We Th Fr Sa Su      Mo Tu We Th Fr Sa Su      Mo Tu We Th Fr Sa Su\n",
      "                1  2       1  2  3  4  5  6  7                1  2  3  4\n",
      " 3  4  5  6  7  8  9       8  9 10 11 12 13 14       5  6  7  8  9 10 11\n",
      "10 11 12 13 14 15 16      15 16 17 18 19 20 21      12 13 14 15 16 17 18\n",
      "17 18 19 20 21 22 23      22 23 24 25 26 27 28      19 20 21 22 23 24 25\n",
      "24 25 26 27 28 29 30      29 30 31                  26 27 28 29 30\n",
      "\n",
      "        July                     August                  September\n",
      "Mo Tu We Th Fr Sa Su      Mo Tu We Th Fr Sa Su      Mo Tu We Th Fr Sa Su\n",
      "                1  2          1  2  3  4  5  6                   1  2  3\n",
      " 3  4  5  6  7  8  9       7  8  9 10 11 12 13       4  5  6  7  8  9 10\n",
      "10 11 12 13 14 15 16      14 15 16 17 18 19 20      11 12 13 14 15 16 17\n",
      "17 18 19 20 21 22 23      21 22 23 24 25 26 27      18 19 20 21 22 23 24\n",
      "24 25 26 27 28 29 30      28 29 30 31               25 26 27 28 29 30\n",
      "31\n",
      "\n",
      "      October                   November                  December\n",
      "Mo Tu We Th Fr Sa Su      Mo Tu We Th Fr Sa Su      Mo Tu We Th Fr Sa Su\n",
      "                   1             1  2  3  4  5                   1  2  3\n",
      " 2  3  4  5  6  7  8       6  7  8  9 10 11 12       4  5  6  7  8  9 10\n",
      " 9 10 11 12 13 14 15      13 14 15 16 17 18 19      11 12 13 14 15 16 17\n",
      "16 17 18 19 20 21 22      20 21 22 23 24 25 26      18 19 20 21 22 23 24\n",
      "23 24 25 26 27 28 29      27 28 29 30               25 26 27 28 29 30 31\n",
      "30 31\n"
     ]
    }
   ],
   "source": [
    "import calendar\n",
    "\n",
    "calendar.prcal(2023)"
   ]
  },
  {
   "cell_type": "markdown",
   "metadata": {},
   "source": [
    "## <center><b>QUESTION - 09</b></center>"
   ]
  },
  {
   "cell_type": "markdown",
   "metadata": {},
   "source": [
    "# D"
   ]
  },
  {
   "cell_type": "markdown",
   "metadata": {},
   "source": [
    "## <center><b>QUESTION - 10</b></center>"
   ]
  },
  {
   "cell_type": "markdown",
   "metadata": {},
   "source": [
    "# C"
   ]
  },
  {
   "cell_type": "code",
   "execution_count": 11,
   "metadata": {},
   "outputs": [
    {
     "name": "stdout",
     "output_type": "stream",
     "text": [
      "True\n",
      "False\n"
     ]
    }
   ],
   "source": [
    "import calendar\n",
    "\n",
    "print(calendar.isleap(2020))\n",
    "print(calendar.isleap(2021))"
   ]
  },
  {
   "cell_type": "markdown",
   "metadata": {},
   "source": [
    "<br><br><br><br>\n",
    "\n",
    "---\n",
    "\n",
    "---\n",
    "\n",
    "<br><br>\n",
    "\n",
    "# <center><b> PROGRAMMING ASSIGNMENT - 01:</b></center>\n",
    "\n",
    "<br><br>\n"
   ]
  },
  {
   "cell_type": "markdown",
   "metadata": {},
   "source": [
    "![Programming Assignment 01](image-14.png)"
   ]
  },
  {
   "cell_type": "code",
   "execution_count": null,
   "metadata": {},
   "outputs": [],
   "source": [
    "side_1 = int(input())\n",
    "side_2 = int(input())\n",
    "side_3 = int(input())\n",
    "\n",
    "side_list = [side_1, side_2, side_3]\n",
    "\n",
    "hypotenuse = max(side_list)\n",
    "\n",
    "side_list.remove(hypotenuse)\n",
    "\n",
    "if (hypotenuse**2 == (side_list[0]**2 + side_list[1]**2)):\n",
    "    print(\"YES\", end = \"\")\n",
    "else:\n",
    "    print(\"NO\", end = \"\")"
   ]
  },
  {
   "cell_type": "markdown",
   "metadata": {},
   "source": [
    "![Output of Programming Assignment 01](image-15.png)"
   ]
  },
  {
   "cell_type": "markdown",
   "metadata": {},
   "source": [
    "<br><br><br><br>\n",
    "\n",
    "---\n",
    "\n",
    "---\n",
    "\n",
    "<br><br>\n",
    "\n",
    "# <center><b> PROGRAMMING ASSIGNMENT - 02:</b></center>\n",
    "\n",
    "<br><br>\n"
   ]
  },
  {
   "cell_type": "markdown",
   "metadata": {},
   "source": [
    "![Programming Assignment 02](image-12.png)"
   ]
  },
  {
   "cell_type": "code",
   "execution_count": null,
   "metadata": {},
   "outputs": [],
   "source": [
    "hash_input = sorted(input().split('#'), reverse = True)\n",
    "print(\"#\".join(hash_input), end = \"\")"
   ]
  },
  {
   "cell_type": "markdown",
   "metadata": {},
   "source": [
    "![Output of Programming Assignment 02](image-13.png)"
   ]
  },
  {
   "cell_type": "markdown",
   "metadata": {},
   "source": [
    "<br><br><br><br>\n",
    "\n",
    "---\n",
    "\n",
    "---\n",
    "\n",
    "<br><br>\n",
    "\n",
    "# <center><b> PROGRAMMING ASSIGNMENT - 03:</b></center>\n",
    "\n",
    "<br><br>\n"
   ]
  },
  {
   "cell_type": "markdown",
   "metadata": {},
   "source": [
    "![Programming Assignment 03](image-11.png)"
   ]
  },
  {
   "cell_type": "code",
   "execution_count": null,
   "metadata": {},
   "outputs": [],
   "source": [
    "def is_composite(num):\n",
    "    if num < 2:\n",
    "        return False\n",
    "    for i in range(2, num):\n",
    "        if num % i == 0:\n",
    "            return True\n",
    "    return False\n",
    "\n",
    "\n",
    "side_1 = int(input())\n",
    "side_2 = int(input())\n",
    "\n",
    "for num in range(side_1, side_2+1):\n",
    "    if is_composite(num):\n",
    "        print(num)\n"
   ]
  },
  {
   "cell_type": "markdown",
   "metadata": {},
   "source": [
    "![Output of Programming Assignment 03](image-10.png)"
   ]
  },
  {
   "cell_type": "markdown",
   "metadata": {},
   "source": [
    "--------------------------\n",
    "-------------------------\n",
    "\n",
    "<br><br>\n",
    "<b><center>* THE END *</center></b>\n",
    "<br><br>\n",
    "\n",
    "\n",
    "------------------------------\n",
    "-----------------------------"
   ]
  }
 ],
 "metadata": {
  "kernelspec": {
   "display_name": "Python 3",
   "language": "python",
   "name": "python3"
  },
  "language_info": {
   "codemirror_mode": {
    "name": "ipython",
    "version": 3
   },
   "file_extension": ".py",
   "mimetype": "text/x-python",
   "name": "python",
   "nbconvert_exporter": "python",
   "pygments_lexer": "ipython3",
   "version": "3.11.5"
  },
  "orig_nbformat": 4
 },
 "nbformat": 4,
 "nbformat_minor": 2
}
