{
 "cells": [
  {
   "cell_type": "markdown",
   "metadata": {},
   "source": [
    "<h1 align=\"center\"><b><u> WEEK - 05 </u></b></h1>\n",
    "\n",
    "<br><br><br>"
   ]
  },
  {
   "cell_type": "markdown",
   "metadata": {},
   "source": [
    "\n",
    "<br><br><br>\n",
    "\n",
    "---\n",
    "---\n",
    "\n",
    "\n",
    "<h1 align=\"center\"><b><u> DICTIONARIES </u></b></h1>\n",
    "\n",
    "---\n",
    "\n",
    "---\n",
    "\n"
   ]
  },
  {
   "cell_type": "markdown",
   "metadata": {},
   "source": [
    "<br><br>\n",
    "### <b>Creating Empty Dictionary:</b><br>"
   ]
  },
  {
   "cell_type": "code",
   "execution_count": 2,
   "metadata": {},
   "outputs": [
    {
     "name": "stdout",
     "output_type": "stream",
     "text": [
      "{}\n",
      "<class 'dict'>\n"
     ]
    }
   ],
   "source": [
    "dict = {}\n",
    "print(dict)\n",
    "print(type(dict))"
   ]
  },
  {
   "cell_type": "code",
   "execution_count": 3,
   "metadata": {},
   "outputs": [
    {
     "name": "stdout",
     "output_type": "stream",
     "text": [
      "\u001b[1;31mDocstring:\u001b[0m D.items() -> a set-like object providing a view on D's items\n",
      "\u001b[1;31mType:\u001b[0m      builtin_function_or_method"
     ]
    }
   ],
   "source": [
    "dict.items?"
   ]
  },
  {
   "cell_type": "code",
   "execution_count": 39,
   "metadata": {},
   "outputs": [
    {
     "name": "stdout",
     "output_type": "stream",
     "text": [
      "\u001b[1;31mDocstring:\u001b[0m D.keys() -> a set-like object providing a view on D's keys\n",
      "\u001b[1;31mType:\u001b[0m      builtin_function_or_method\n"
     ]
    }
   ],
   "source": [
    "dict.keys?"
   ]
  },
  {
   "cell_type": "code",
   "execution_count": 4,
   "metadata": {},
   "outputs": [
    {
     "name": "stdout",
     "output_type": "stream",
     "text": [
      "\u001b[1;31mDocstring:\u001b[0m D.values() -> an object providing a view on D's values\n",
      "\u001b[1;31mType:\u001b[0m      builtin_function_or_method"
     ]
    }
   ],
   "source": [
    "dict.values?"
   ]
  },
  {
   "cell_type": "code",
   "execution_count": 5,
   "metadata": {},
   "outputs": [
    {
     "name": "stdout",
     "output_type": "stream",
     "text": [
      "\u001b[1;31mSignature:\u001b[0m \u001b[0mdict\u001b[0m\u001b[1;33m.\u001b[0m\u001b[0mget\u001b[0m\u001b[1;33m(\u001b[0m\u001b[0mkey\u001b[0m\u001b[1;33m,\u001b[0m \u001b[0mdefault\u001b[0m\u001b[1;33m=\u001b[0m\u001b[1;32mNone\u001b[0m\u001b[1;33m,\u001b[0m \u001b[1;33m/\u001b[0m\u001b[1;33m)\u001b[0m\u001b[1;33m\u001b[0m\u001b[1;33m\u001b[0m\u001b[0m\n",
      "\u001b[1;31mDocstring:\u001b[0m Return the value for key if key is in the dictionary, else default.\n",
      "\u001b[1;31mType:\u001b[0m      builtin_function_or_method"
     ]
    }
   ],
   "source": [
    "dict.get?"
   ]
  },
  {
   "cell_type": "code",
   "execution_count": 6,
   "metadata": {},
   "outputs": [
    {
     "name": "stdout",
     "output_type": "stream",
     "text": [
      "\u001b[1;31mDocstring:\u001b[0m\n",
      "D.update([E, ]**F) -> None.  Update D from dict/iterable E and F.\n",
      "If E is present and has a .keys() method, then does:  for k in E: D[k] = E[k]\n",
      "If E is present and lacks a .keys() method, then does:  for k, v in E: D[k] = v\n",
      "In either case, this is followed by: for k in F:  D[k] = F[k]\n",
      "\u001b[1;31mType:\u001b[0m      builtin_function_or_method"
     ]
    }
   ],
   "source": [
    "dict.update?"
   ]
  },
  {
   "cell_type": "code",
   "execution_count": 7,
   "metadata": {},
   "outputs": [
    {
     "name": "stdout",
     "output_type": "stream",
     "text": [
      "\u001b[1;31mDocstring:\u001b[0m\n",
      "D.pop(k[,d]) -> v, remove specified key and return the corresponding value.\n",
      "\n",
      "If the key is not found, return the default if given; otherwise,\n",
      "raise a KeyError.\n",
      "\u001b[1;31mType:\u001b[0m      builtin_function_or_method"
     ]
    }
   ],
   "source": [
    "dict.pop?"
   ]
  },
  {
   "cell_type": "code",
   "execution_count": 8,
   "metadata": {},
   "outputs": [
    {
     "name": "stdout",
     "output_type": "stream",
     "text": [
      "\u001b[1;31mDocstring:\u001b[0m D.copy() -> a shallow copy of D\n",
      "\u001b[1;31mType:\u001b[0m      builtin_function_or_method"
     ]
    }
   ],
   "source": [
    "dict.copy?"
   ]
  },
  {
   "cell_type": "code",
   "execution_count": 9,
   "metadata": {},
   "outputs": [
    {
     "name": "stdout",
     "output_type": "stream",
     "text": [
      "\u001b[1;31mDocstring:\u001b[0m D.clear() -> None.  Remove all items from D.\n",
      "\u001b[1;31mType:\u001b[0m      builtin_function_or_method\n"
     ]
    },
    {
     "name": "stdout",
     "output_type": "stream",
     "text": [
      "\u001b[1;31mDocstring:\u001b[0m D.clear() -> None.  Remove all items from D.\n",
      "\u001b[1;31mType:\u001b[0m      builtin_function_or_method"
     ]
    }
   ],
   "source": [
    "dict.clear?"
   ]
  },
  {
   "cell_type": "markdown",
   "metadata": {},
   "source": [
    "<br><br>\n",
    "### <b>Creating a Dictionary and assigning Key-Value Pairs to it.</b><br>"
   ]
  },
  {
   "cell_type": "code",
   "execution_count": 10,
   "metadata": {},
   "outputs": [
    {
     "name": "stdout",
     "output_type": "stream",
     "text": [
      "{'Dollar': 80, 'Euro': 75.2, 'Dinar': 66}\n"
     ]
    }
   ],
   "source": [
    "cur_dic = {}\n",
    "\n",
    "cur_dic[\"Dollar\"] = 80\n",
    "cur_dic[\"Euro\"] = 75.2\n",
    "cur_dic[\"Dinar\"] = 66\n",
    "\n",
    "print(cur_dic)\n"
   ]
  },
  {
   "cell_type": "markdown",
   "metadata": {},
   "source": [
    "<br><br>\n",
    "### <b>Iterating through the Dictionary:</b><br>"
   ]
  },
  {
   "cell_type": "code",
   "execution_count": 11,
   "metadata": {},
   "outputs": [
    {
     "name": "stdout",
     "output_type": "stream",
     "text": [
      "Dollar\n",
      "Euro\n",
      "Dinar\n"
     ]
    }
   ],
   "source": [
    "for item in cur_dic:\n",
    "    print(item)"
   ]
  },
  {
   "cell_type": "code",
   "execution_count": 48,
   "metadata": {},
   "outputs": [
    {
     "name": "stdout",
     "output_type": "stream",
     "text": [
      "80\n",
      "75.2\n",
      "66\n"
     ]
    }
   ],
   "source": [
    "for item in cur_dic:\n",
    "    print(cur_dic[item])"
   ]
  },
  {
   "cell_type": "markdown",
   "metadata": {},
   "source": [
    "<br><br>\n",
    "### <b>Printing all the elemets of the dictionary:</b><br>"
   ]
  },
  {
   "cell_type": "code",
   "execution_count": 49,
   "metadata": {},
   "outputs": [
    {
     "name": "stdout",
     "output_type": "stream",
     "text": [
      "dict_items([('Dollar', 80), ('Euro', 75.2), ('Dinar', 66)])\n"
     ]
    }
   ],
   "source": [
    "print(cur_dic.items())"
   ]
  },
  {
   "cell_type": "code",
   "execution_count": 50,
   "metadata": {},
   "outputs": [
    {
     "name": "stdout",
     "output_type": "stream",
     "text": [
      "[('Dollar', 80), ('Euro', 75.2), ('Dinar', 66)]\n"
     ]
    }
   ],
   "source": [
    "print(list(cur_dic.items()))"
   ]
  },
  {
   "cell_type": "markdown",
   "metadata": {},
   "source": [
    "<br><br>\n",
    "### <b>Printing the Keys of the dictionary:</b><br>"
   ]
  },
  {
   "cell_type": "code",
   "execution_count": 51,
   "metadata": {},
   "outputs": [
    {
     "name": "stdout",
     "output_type": "stream",
     "text": [
      "dict_keys(['Dollar', 'Euro', 'Dinar'])\n"
     ]
    }
   ],
   "source": [
    "print(cur_dic.keys())"
   ]
  },
  {
   "cell_type": "markdown",
   "metadata": {},
   "source": [
    "<br><br>\n",
    "### <b>Converting the output keys into a List:</b><br>"
   ]
  },
  {
   "cell_type": "code",
   "execution_count": 52,
   "metadata": {},
   "outputs": [
    {
     "name": "stdout",
     "output_type": "stream",
     "text": [
      "['Dollar', 'Euro', 'Dinar']\n"
     ]
    }
   ],
   "source": [
    "print(list(cur_dic.keys()))"
   ]
  },
  {
   "cell_type": "markdown",
   "metadata": {},
   "source": [
    "<br><br>\n",
    "### <b>Printing the Values of the dictionary:</b><br>"
   ]
  },
  {
   "cell_type": "code",
   "execution_count": 53,
   "metadata": {},
   "outputs": [
    {
     "name": "stdout",
     "output_type": "stream",
     "text": [
      "dict_values([80, 75.2, 66])\n"
     ]
    }
   ],
   "source": [
    "print(cur_dic.values())"
   ]
  },
  {
   "cell_type": "markdown",
   "metadata": {},
   "source": [
    "<br><br>\n",
    "### <b>Converting the output Values into a List:</b><br>"
   ]
  },
  {
   "cell_type": "code",
   "execution_count": 54,
   "metadata": {},
   "outputs": [
    {
     "name": "stdout",
     "output_type": "stream",
     "text": [
      "[80, 75.2, 66]\n"
     ]
    }
   ],
   "source": [
    "print(list(cur_dic.values()))"
   ]
  },
  {
   "cell_type": "markdown",
   "metadata": {},
   "source": [
    "<br><br>\n",
    "### <b>Updating the value of any Key:</b><br>"
   ]
  },
  {
   "cell_type": "code",
   "execution_count": 55,
   "metadata": {},
   "outputs": [
    {
     "name": "stdout",
     "output_type": "stream",
     "text": [
      "dict_items([('Dollar', 85), ('Euro', 75.2), ('Dinar', 66)])\n"
     ]
    }
   ],
   "source": [
    "cur_dic[\"Dollar\"] = 85\n",
    "print(cur_dic.items())"
   ]
  },
  {
   "cell_type": "markdown",
   "metadata": {},
   "source": [
    "<br><br>\n",
    "### <b>Adding new items to the Dictionary:</b><br>"
   ]
  },
  {
   "cell_type": "code",
   "execution_count": 61,
   "metadata": {},
   "outputs": [
    {
     "name": "stdout",
     "output_type": "stream",
     "text": [
      "dict_items([('Dollar', 70), ('Euro', 75.2), ('Dinar', 66), ('Riyal', 60), ('Yen', 70)])\n"
     ]
    }
   ],
   "source": [
    "cur_dic[\"Yen\"] = 70\n",
    "cur_dic[\"Riyal\"] = 60\n",
    "\n",
    "cur_dic[\"Dollar\"] = 70\n",
    "print(cur_dic.items())"
   ]
  },
  {
   "cell_type": "markdown",
   "metadata": {},
   "source": [
    "<br><br>\n",
    "### <b>Deleting any perticular items:</b><br>"
   ]
  },
  {
   "cell_type": "code",
   "execution_count": 57,
   "metadata": {},
   "outputs": [
    {
     "name": "stdout",
     "output_type": "stream",
     "text": [
      "dict_items([('Dollar', 85), ('Euro', 75.2), ('Dinar', 66), ('Riyal', 60)])\n"
     ]
    }
   ],
   "source": [
    "del cur_dic[\"Yen\"]\n",
    "print(cur_dic.items())"
   ]
  },
  {
   "cell_type": "markdown",
   "metadata": {},
   "source": [
    "\n",
    "<br><br><br>\n",
    "\n",
    "---\n",
    "---\n",
    "\n",
    "\n",
    "<h1 align=\"center\"><b><u> SPEECH RECOGNITION </u></b></h1>\n",
    "\n",
    "---\n",
    "\n",
    "---\n",
    "\n"
   ]
  },
  {
   "cell_type": "markdown",
   "metadata": {},
   "source": [
    "![Alt text](image-13.png)"
   ]
  },
  {
   "cell_type": "code",
   "execution_count": 3,
   "metadata": {},
   "outputs": [
    {
     "name": "stdout",
     "output_type": "stream",
     "text": [
      "Audio file contains: \n",
      " my name is Avinash Yadav today I am doing a concept of Speech Recognition using the fun with joy modified section 3 this is a test case to that module\n"
     ]
    }
   ],
   "source": [
    "import speech_recognition as sr\n",
    "\n",
    "# creating a varible which will be assign to the audio file to use it as a sourse:\n",
    "AUDIO_FILE = (\"TestingFile1.wav\")\n",
    "\n",
    "# Initialise the recogniser:\n",
    "r = sr.Recognizer()\n",
    "\n",
    "# Function to read the audio file:\n",
    "with sr.AudioFile(AUDIO_FILE) as source:\n",
    "    audio = r.record(source)\n",
    "\n",
    "\n",
    "try:\n",
    "    # Print the spoken words in the audio file to text:\n",
    "    print(\"Audio file contains: \\n\", r.recognize_google(audio))\n",
    "\n",
    "# It will raise an error in case Google speech recogniser module not able to understand the audio file\n",
    "except sr.UnknownValueError:\n",
    "    print(\"Google Speech Recognition could not understand audio.\")\n",
    "    \n",
    "# This will occur if we are not able to get results from Google Speech Recogniser Module\n",
    "except sr.RequestError:\n",
    "    print(\"Could not get results from Google Speech Recogniser Module.\")\n"
   ]
  },
  {
   "cell_type": "markdown",
   "metadata": {},
   "source": [
    "\n",
    "<br><br><br>\n",
    "\n",
    "---\n",
    "---\n",
    "\n",
    "\n",
    "<h1 align=\"center\"><b><u> MONTE HALL: 3 DOORS AND A TWIST </u></b></h1>\n",
    "\n",
    "---\n",
    "\n",
    "---\n",
    "\n"
   ]
  },
  {
   "cell_type": "code",
   "execution_count": 4,
   "metadata": {},
   "outputs": [
    {
     "name": "stdout",
     "output_type": "stream",
     "text": [
      "Player Wins the Game!\n"
     ]
    }
   ],
   "source": [
    "import random\n",
    "\n",
    "# Defining the total number of doors:\n",
    "doors = [0]*3\n",
    "\n",
    "# Defining the total number of Goat doors:\n",
    "goatdoor = [0]*2\n",
    "\n",
    "# No of swap wins\n",
    "swap = 0\n",
    "\n",
    "# No of dont swap wins\n",
    "dont_swap = 0\n",
    "\n",
    "j = 0\n",
    "while(j<5):\n",
    "    # xth door will comprise of BMW:\n",
    "    x = random.randint(0,2)\n",
    "    doors[x] = \"BMW\"\n",
    "\n",
    "    # Assigning Rest of the doors as Goat Door:\n",
    "    for i in range(0,3):\n",
    "        if(i==x):\n",
    "            continue\n",
    "        else:\n",
    "            doors[i] = \"Goat\"\n",
    "            goatdoor.append(i)\n",
    "            \n",
    "    # Asking for user's Choice:\n",
    "    choice = int(input(\"Enter your choice: \"))\n",
    "\n",
    "    # Opens a door that comprises of a Goat:\n",
    "    door_open = random.choice(goatdoor)\n",
    "\n",
    "    # Door open should not be equal to the choice made by the user:\n",
    "    while(door_open == choice):\n",
    "        door_open = random.choice(goatdoor)\n",
    "\n",
    "    # Asking the user for swapping:\n",
    "    ch = input(\"Do you want to swap? (y/n) : \")\n",
    "    if(ch==\"y\"):\n",
    "        # User Made the wrong choice of Goat at first, but as he is swapping his choice therefore he wins:\n",
    "        if(doors[choice]==\"Goat\"):\n",
    "            print(\"Player Wins the Game!\")\n",
    "            swap = swap + 1\n",
    "        else:\n",
    "            print(\"Player Losts the Game!\")\n",
    "\n",
    "    else:\n",
    "        # As The user is not swapping his choice and he made wrong guess therefore he losts: \n",
    "        if(doors[choice] == \"Goat\"):\n",
    "            print(\"Player Losts the Game!\")\n",
    "        else:\n",
    "            print(\"Player Wins the Game!\")\n",
    "            dont_swap = dont_swap + 1\n",
    "    \n",
    "    j = j+1\n",
    "\n",
    "print(\"\\nSwap Count: \", swap)\n",
    "print(\"Not Swap Count: \", dont_swap)"
   ]
  },
  {
   "cell_type": "markdown",
   "metadata": {},
   "source": [
    "<br><br>\n",
    "# <b>ROCK, PAPER AND SCISSOR-:</b><br>"
   ]
  },
  {
   "cell_type": "code",
   "execution_count": null,
   "metadata": {},
   "outputs": [],
   "source": [
    "\n",
    "def rock_paper_scissor(num1, num2, bit1, bit2):\n",
    "    # It is basically the placeholder of bit1 in num1:\n",
    "    p1 = int(num1[bit1])%3\n",
    "    \n",
    "    # It is basically the placeholder of bit2 in num2:\n",
    "    p2 = int(num2[bit2])%3\n",
    "    \n",
    "    # Quoting the Rules:\n",
    "    if (player1[p1] == player2[p2]):\n",
    "        print(\"Draw\")\n",
    "        \n",
    "    elif(player1[p1] == \"Rock\" and player2[p2] == \"Scissor\"):\n",
    "        print(\"Player1 Wins!!\")\n",
    "        \n",
    "    elif(player1[p1] == \"Rock\" and player2[p2] == \"Paper\"):\n",
    "        print(\"Player2 Wins!!\")\n",
    "        \n",
    "    elif(player1[p1] == \"Paper\" and player2[p2] == \"Scissor\"):\n",
    "        print(\"Player2 Wins!!\")\n",
    "        \n",
    "    elif(player1[p1] == \"Paper\" and player2[p2] == \"Rock\"):\n",
    "        print(\"Player1 Wins!!\")\n",
    "        \n",
    "    elif(player1[p1] == \"Scissor\" and player2[p2] == \"Rock\"):\n",
    "        print(\"Player2 Wins!!\")\n",
    "        \n",
    "    elif(player1[p1] == \"Scissor\" and player2[p2] == \"Paper\"):\n",
    "        print(\"Player1 Wins!!\")\n",
    "        \n",
    "# Rock, Paper and Scissor Sequence for Player_1\n",
    "player1 = {0 : 'Rock', 1: 'Paper', 2: 'Scissor'}\n",
    "\n",
    "# Rock, Paper and Scissor Sequence for Player_2\n",
    "player2 = {0 : 'Paper', 1: ' Rock', 2: 'Scissor'}\n",
    "\n",
    "while(1):\n",
    "    num1 = input(\"Player_1, Enter your choice: \")\n",
    "    num2 = input(\"Player_2, Enter your choice: \")\n",
    "    bit1 = int(input(\"Player_1, Enter the secret bit position: \"))\n",
    "    bit2 = int(input(\"Player_2, Enter the secret bit position: \"))\n",
    "    rock_paper_scissor(num1, num2, bit1, bit2)\n",
    "    ch = input(\"Do you want to continue? y/n\")\n",
    "    if(ch==\"n\"):\n",
    "        break\n"
   ]
  },
  {
   "cell_type": "markdown",
   "metadata": {},
   "source": [
    "<br><br><br>\n",
    "\n",
    "---\n",
    "---\n",
    "\n",
    "\n",
    "<h1 align=\"center\"><b><u> SORTING AND SEARCHING </u></b></h1>\n",
    "\n",
    "---\n",
    "\n",
    "---\n",
    "\n"
   ]
  },
  {
   "cell_type": "markdown",
   "metadata": {},
   "source": [
    "<br><br>\n",
    "### <b>1. BUBBLE SORT:</b><br>"
   ]
  },
  {
   "cell_type": "code",
   "execution_count": 4,
   "metadata": {},
   "outputs": [
    {
     "name": "stdout",
     "output_type": "stream",
     "text": [
      "1 2 3 4 5 6 7 8 9 10 11 12 13 14 15 "
     ]
    }
   ],
   "source": [
    "def bubble_Sort(arr):\n",
    "    size = len(arr)\n",
    "    \n",
    "    for i in range(size):\n",
    "        for j in range(0, size-i-1):\n",
    "            if(arr[j]>arr[j+1]):\n",
    "                temp = arr[j]\n",
    "                arr[j] = arr[j+1]\n",
    "                arr[j+1] = temp\n",
    "            \n",
    "arr = [1, 15, 7, 2, 10, 4, 12, 5, 11, 3, 9, 6, 13, 8, 14]\n",
    "bubble_Sort(arr)\n",
    "\n",
    "for items in arr:\n",
    "    print(items, end=\" \")"
   ]
  },
  {
   "cell_type": "markdown",
   "metadata": {},
   "source": [
    "<br><br>\n",
    "### <b>2. LINEAR SEARCH:</b><br>"
   ]
  },
  {
   "cell_type": "code",
   "execution_count": 5,
   "metadata": {},
   "outputs": [
    {
     "name": "stdout",
     "output_type": "stream",
     "text": [
      "The target element is not found.\n",
      "Total Number of iterations:  99\n"
     ]
    }
   ],
   "source": [
    "def linear_Serach(num, target):\n",
    "    elements = []\n",
    "    \n",
    "    for i in range(1, num):\n",
    "        elements.append(i)\n",
    "    \n",
    "    count = 0\n",
    "    flag = 0\n",
    "        \n",
    "    for items in elements:\n",
    "        count+=1\n",
    "        if(items==target):\n",
    "            print(\"Yes, The target element is present at position \", str(items))\n",
    "            flag = 1\n",
    "            break\n",
    "        \n",
    "    if(flag==0):\n",
    "        print(\"The target element is not found.\")            \n",
    "        print(\"Total Number of iterations: \", count)\n",
    "\n",
    "linear_Serach(100, 515)"
   ]
  },
  {
   "cell_type": "markdown",
   "metadata": {},
   "source": [
    "<br><br>\n",
    "### <b>3. BINARY SEARCH:</b><br>"
   ]
  },
  {
   "cell_type": "code",
   "execution_count": 6,
   "metadata": {},
   "outputs": [
    {
     "name": "stdout",
     "output_type": "stream",
     "text": [
      "The target element is present at index:  99\n",
      "Total number of iteration required to search the target elemet is:  7\n"
     ]
    }
   ],
   "source": [
    "def binary_Search(arr, target):\n",
    "    start = 0\n",
    "    end = len(arr) - 1\n",
    "    flag = count = 0\n",
    "    \n",
    "    while(start<=end):\n",
    "        count += 1\n",
    "        \n",
    "        mid = (start+end)//2\n",
    "        \n",
    "        if(arr[mid] == target):\n",
    "            flag = 1\n",
    "            print(\"The target element is present at index: \", str(mid))\n",
    "            print(\"Total number of iteration required to search the target elemet is: \", count)\n",
    "            return\n",
    "        \n",
    "        elif(arr[mid]<target):\n",
    "            start = mid + 1\n",
    "        \n",
    "        else:\n",
    "            end = mid - 1\n",
    "       \n",
    "     \n",
    "    print(\"The target element is not present.\")\n",
    "        \n",
    "\n",
    "arr = []\n",
    "for i in range(1, 101):\n",
    "    arr.append(i)\n",
    "\n",
    "binary_Search(arr, 100)\n"
   ]
  },
  {
   "cell_type": "markdown",
   "metadata": {},
   "source": [
    "---\n",
    "\n",
    "---\n",
    "\n",
    "> <br><br><br><br>\n",
    ">\n",
    "> <h1 align=\"center\"><b><u> Week 05: Assignment </u></b></h1>\n",
    ">\n",
    "> <br><br><br><br>\n",
    "\n",
    "---\n",
    "\n",
    "---"
   ]
  },
  {
   "cell_type": "markdown",
   "metadata": {},
   "source": [
    "<h1 align=\"center\"><b><u> QUESTION - 01 </u></b></h1>"
   ]
  },
  {
   "cell_type": "markdown",
   "metadata": {},
   "source": [
    "![Alt text](image.png)"
   ]
  },
  {
   "cell_type": "markdown",
   "metadata": {},
   "source": [
    "<h1 align=\"center\"><b><u> QUESTION - 02 </u></b></h1>"
   ]
  },
  {
   "cell_type": "markdown",
   "metadata": {},
   "source": [
    "![Alt text](image-1.png)"
   ]
  },
  {
   "cell_type": "markdown",
   "metadata": {},
   "source": [
    "<h1 align=\"center\"><b><u> QUESTION - 03 </u></b></h1>"
   ]
  },
  {
   "cell_type": "markdown",
   "metadata": {},
   "source": [
    "![Alt text](image-2.png)"
   ]
  },
  {
   "cell_type": "markdown",
   "metadata": {},
   "source": [
    "<h1 align=\"center\"><b><u> QUESTION - 04 </u></b></h1>"
   ]
  },
  {
   "cell_type": "markdown",
   "metadata": {},
   "source": [
    "![Alt text](image-3.png)"
   ]
  },
  {
   "cell_type": "markdown",
   "metadata": {},
   "source": [
    "<h1 align=\"center\"><b><u> QUESTION - 05 </u></b></h1>"
   ]
  },
  {
   "cell_type": "markdown",
   "metadata": {},
   "source": [
    "![Alt text](image-4.png)"
   ]
  },
  {
   "cell_type": "markdown",
   "metadata": {},
   "source": [
    "<h1 align=\"center\"><b><u> QUESTION - 06 </u></b></h1>"
   ]
  },
  {
   "cell_type": "markdown",
   "metadata": {},
   "source": [
    "![Alt text](image-5.png)"
   ]
  },
  {
   "cell_type": "code",
   "execution_count": 1,
   "metadata": {},
   "outputs": [
    {
     "name": "stdout",
     "output_type": "stream",
     "text": [
      "dict_items([('a', 20), ('b', 30), ('c', 50)])\n"
     ]
    }
   ],
   "source": [
    "d = {'a': 20, 'b': 30, 'c': 50}\n",
    "\n",
    "print(d.items())"
   ]
  },
  {
   "cell_type": "markdown",
   "metadata": {},
   "source": [
    "<h1 align=\"center\"><b><u> QUESTION - 07 </u></b></h1>"
   ]
  },
  {
   "cell_type": "markdown",
   "metadata": {},
   "source": [
    "![Alt text](image-6.png)"
   ]
  },
  {
   "cell_type": "markdown",
   "metadata": {},
   "source": [
    "<h1 align=\"center\"><b><u> QUESTION - 08 </u></b></h1>"
   ]
  },
  {
   "cell_type": "markdown",
   "metadata": {},
   "source": [
    "![Alt text](image-7.png)"
   ]
  },
  {
   "cell_type": "markdown",
   "metadata": {},
   "source": [
    "<h1 align=\"center\"><b><u> QUESTION - 09 </u></b></h1>"
   ]
  },
  {
   "cell_type": "markdown",
   "metadata": {},
   "source": [
    "![Alt text](image-8.png)"
   ]
  },
  {
   "cell_type": "markdown",
   "metadata": {},
   "source": [
    "<h1 align=\"center\"><b><u> QUESTION - 10 </u></b></h1>"
   ]
  },
  {
   "cell_type": "markdown",
   "metadata": {},
   "source": [
    "![Alt text](image-9.png)"
   ]
  },
  {
   "cell_type": "markdown",
   "metadata": {},
   "source": [
    "<br><br><br><br>\n",
    "\n",
    "---\n",
    "\n",
    "---\n",
    "\n",
    "<br><br>\n",
    "\n",
    "<h1 align=\"center\"><b><u> PROGRAMMING ASSIGNMENT - 01: </u></b></h1>\n",
    "<br><br>\n"
   ]
  },
  {
   "cell_type": "markdown",
   "metadata": {},
   "source": [
    "![Alt text](image-10.png)"
   ]
  },
  {
   "cell_type": "code",
   "execution_count": 3,
   "metadata": {},
   "outputs": [
    {
     "name": "stdout",
     "output_type": "stream",
     "text": [
      "{'T': 1, 'h': 1, 'e': 1, ' ': 3, 'J': 1, 'o': 3, 'y': 1, 'f': 1, 'c': 1, 'm': 1, 'p': 1, 'u': 1, 't': 1, 'i': 1, 'n': 1, 'g': 1}\n"
     ]
    }
   ],
   "source": [
    "def count_letters(S):\n",
    "    # Create an empty dictionary to store the letter counts\n",
    "    letter_count = {}\n",
    "\n",
    "    # Iterate through each character in the string\n",
    "    for char in S:\n",
    "        # Check if the character is already in the dictionary\n",
    "        if char in letter_count:\n",
    "            # If it is, increment the count by 1\n",
    "            letter_count[char] += 1\n",
    "        else:\n",
    "            # If it's not, add it to the dictionary with a count of 1\n",
    "            letter_count[char] = 1\n",
    "\n",
    "    return letter_count\n",
    "\n",
    "# Example usage:\n",
    "input_string = \"The Joy of computing\"\n",
    "result = count_letters(input_string)\n",
    "print(result)\n"
   ]
  },
  {
   "cell_type": "markdown",
   "metadata": {},
   "source": [
    "<br><br><br><br>\n",
    "\n",
    "---\n",
    "\n",
    "---\n",
    "\n",
    "<br><br>\n",
    "\n",
    "<h1 align=\"center\"><b><u> PROGRAMMING ASSIGNMENT - 02: </u></b></h1>\n",
    "<br><br>\n"
   ]
  },
  {
   "cell_type": "markdown",
   "metadata": {},
   "source": [
    "![Alt text](image-11.png)"
   ]
  },
  {
   "cell_type": "markdown",
   "metadata": {},
   "source": [
    "METHOD - 01"
   ]
  },
  {
   "cell_type": "code",
   "execution_count": 2,
   "metadata": {},
   "outputs": [
    {
     "name": "stdout",
     "output_type": "stream",
     "text": [
      "[1, 5, 6, 7]\n"
     ]
    }
   ],
   "source": [
    "def uniqueE(L):\n",
    "    # Create an empty list to store unique elements\n",
    "    unique_list = []\n",
    "\n",
    "    # Iterate through each element in the input list\n",
    "    for element in L:\n",
    "        if L.count(element) == 1:\n",
    "            unique_list.append(element)\n",
    "\n",
    "    # Sort the unique elements list\n",
    "    unique_list.sort()\n",
    "\n",
    "    return unique_list\n",
    "\n",
    "# Example usage:\n",
    "input_list = [1, 2, 3, 3, 4, 4, 2, 5, 6, 7]\n",
    "result = uniqueE(input_list)\n",
    "print(result)\n"
   ]
  },
  {
   "cell_type": "markdown",
   "metadata": {},
   "source": [
    "METHOD - 02"
   ]
  },
  {
   "cell_type": "code",
   "execution_count": 1,
   "metadata": {},
   "outputs": [
    {
     "name": "stdout",
     "output_type": "stream",
     "text": [
      "[1, 5, 6, 7]\n"
     ]
    }
   ],
   "source": [
    "def uniqueE(L):\n",
    "    # Use a set to keep track of unique elements\n",
    "    unique_elements = set()\n",
    "\n",
    "    # Iterate through the list and add unique elements to the set\n",
    "    for element in L:\n",
    "        if L.count(element) == 1:\n",
    "            unique_elements.add(element)\n",
    "\n",
    "    # Sort the unique elements and convert them back to a list\n",
    "    sorted_unique_elements = sorted(list(unique_elements))\n",
    "\n",
    "    return sorted_unique_elements\n",
    "\n",
    "# Example usage:\n",
    "input_list = [1, 2, 3, 3, 4, 4, 2, 5, 6, 7]\n",
    "result = uniqueE(input_list)\n",
    "print(result)\n"
   ]
  },
  {
   "cell_type": "markdown",
   "metadata": {},
   "source": [
    "<br><br><br><br>\n",
    "\n",
    "---\n",
    "\n",
    "---\n",
    "\n",
    "<br><br>\n",
    "\n",
    "<h1 align=\"center\"><b><u> PROGRAMMING ASSIGNMENT - 03: </u></b></h1>\n",
    "<br><br>\n"
   ]
  },
  {
   "cell_type": "markdown",
   "metadata": {},
   "source": [
    "![Alt text](image-12.png)"
   ]
  },
  {
   "cell_type": "code",
   "execution_count": 16,
   "metadata": {},
   "outputs": [
    {
     "name": "stdout",
     "output_type": "stream",
     "text": [
      "2\n"
     ]
    }
   ],
   "source": [
    " \n",
    "def is_prime(num):\n",
    "    if num <= 1:\n",
    "        return False\n",
    "    \n",
    "    if num <= 3:\n",
    "        return True\n",
    "    \n",
    "    if num % 2 == 0 or num % 3 == 0:\n",
    "        return False\n",
    "    \n",
    "    i = 5\n",
    "    while i * i <= num:\n",
    "        if num % i == 0:\n",
    "            return False\n",
    "        i += 2\n",
    "    return True\n",
    "\n",
    "\n",
    "# L = [int(i) for i in input().split()]\n",
    "\n",
    "# Input list\n",
    "L = [1, 2, 3, 4, 5, 6, 7, 8, 9]\n",
    "\n",
    "# Find and print the first prime number in the list\n",
    "for num in L:\n",
    "    if is_prime(num):\n",
    "        print(num)\n",
    "        break\n"
   ]
  },
  {
   "cell_type": "markdown",
   "metadata": {},
   "source": [
    "--------------------------\n",
    "-------------------------\n",
    "\n",
    "<br><br>\n",
    "<h1 style=\"color: red\" align=\"center\"><b>*<u>  THE END  </u>*</b></h1>\n",
    "<br><br>\n",
    "\n",
    "\n",
    "------------------------------\n",
    "-----------------------------"
   ]
  }
 ],
 "metadata": {
  "kernelspec": {
   "display_name": "Python 3",
   "language": "python",
   "name": "python3"
  },
  "language_info": {
   "codemirror_mode": {
    "name": "ipython",
    "version": 3
   },
   "file_extension": ".py",
   "mimetype": "text/x-python",
   "name": "python",
   "nbconvert_exporter": "python",
   "pygments_lexer": "ipython3",
   "version": "3.11.5"
  },
  "orig_nbformat": 4
 },
 "nbformat": 4,
 "nbformat_minor": 2
}
