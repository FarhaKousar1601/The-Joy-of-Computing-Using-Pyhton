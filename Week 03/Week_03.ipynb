{
 "cells": [
  {
   "cell_type": "markdown",
   "metadata": {},
   "source": [
    "# <center><b><u>WEEK 03:</u></b></center>"
   ]
  },
  {
   "cell_type": "markdown",
   "metadata": {},
   "source": [
    "# <center><b>LIST</b></center>\n"
   ]
  },
  {
   "cell_type": "markdown",
   "metadata": {},
   "source": [
    "[<b>PROGRAMIZ LIST FUNCTIOS</b>](https://www.programiz.com/python-programming/methods/list/index#google_vignette)\n"
   ]
  },
  {
   "cell_type": "code",
   "execution_count": 1,
   "metadata": {},
   "outputs": [
    {
     "name": "stdout",
     "output_type": "stream",
     "text": [
      "['Bottles', 'Toys', 'Books']\n",
      "\n"
     ]
    }
   ],
   "source": [
    "items = [\"Bottles\", \"Toys\", \"Books\"]\n",
    "print(items)\n",
    "print()"
   ]
  },
  {
   "cell_type": "markdown",
   "metadata": {},
   "source": [
    "### <i>Printing the items of the list one by one:</i>\n"
   ]
  },
  {
   "cell_type": "code",
   "execution_count": 2,
   "metadata": {},
   "outputs": [
    {
     "name": "stdout",
     "output_type": "stream",
     "text": [
      "Bottles\n",
      "Toys\n",
      "Books\n",
      "\n"
     ]
    }
   ],
   "source": [
    "for item in items:\n",
    "    print(item)\n",
    "print()"
   ]
  },
  {
   "cell_type": "markdown",
   "metadata": {},
   "source": [
    "### <i>Appending new item in the given list:</i>\n"
   ]
  },
  {
   "cell_type": "code",
   "execution_count": 3,
   "metadata": {},
   "outputs": [
    {
     "name": "stdout",
     "output_type": "stream",
     "text": [
      "['Bottles', 'Toys', 'Books', 'Curd']\n",
      "\n"
     ]
    }
   ],
   "source": [
    "items.append(\"Curd\")\n",
    "print(items)\n",
    "print()"
   ]
  },
  {
   "cell_type": "markdown",
   "metadata": {},
   "source": [
    "### Counting apperance of a particular item in the list:\n"
   ]
  },
  {
   "cell_type": "code",
   "execution_count": 4,
   "metadata": {},
   "outputs": [
    {
     "name": "stdout",
     "output_type": "stream",
     "text": [
      "1\n",
      "\n"
     ]
    }
   ],
   "source": [
    "print(items.count(\"Toys\"))\n",
    "print()"
   ]
  },
  {
   "cell_type": "markdown",
   "metadata": {},
   "source": [
    "### Counting total items in the list:\n"
   ]
  },
  {
   "cell_type": "code",
   "execution_count": 5,
   "metadata": {},
   "outputs": [
    {
     "name": "stdout",
     "output_type": "stream",
     "text": [
      "4\n",
      "\n"
     ]
    }
   ],
   "source": [
    "print(len(items))\n",
    "print()"
   ]
  },
  {
   "cell_type": "markdown",
   "metadata": {},
   "source": [
    "### Sorting the item in the list:\n"
   ]
  },
  {
   "cell_type": "code",
   "execution_count": 6,
   "metadata": {},
   "outputs": [
    {
     "name": "stdout",
     "output_type": "stream",
     "text": [
      "['Books', 'Bottles', 'Curd', 'Toys']\n",
      "['Toys', 'Curd', 'Bottles', 'Books']\n"
     ]
    }
   ],
   "source": [
    "items.sort()\n",
    "print(items)\n",
    "\n",
    "items.sort(reverse=True)\n",
    "print(items)"
   ]
  },
  {
   "cell_type": "markdown",
   "metadata": {},
   "source": [
    "### Reversing the list:\n"
   ]
  },
  {
   "cell_type": "code",
   "execution_count": 7,
   "metadata": {},
   "outputs": [
    {
     "name": "stdout",
     "output_type": "stream",
     "text": [
      "['Books', 'Bottles', 'Curd', 'Toys']\n",
      "\n"
     ]
    }
   ],
   "source": [
    "items.reverse()\n",
    "print(items)\n",
    "print()"
   ]
  },
  {
   "cell_type": "markdown",
   "metadata": {},
   "source": [
    "### Inserting a value in the list:\n"
   ]
  },
  {
   "cell_type": "code",
   "execution_count": 8,
   "metadata": {},
   "outputs": [
    {
     "name": "stdout",
     "output_type": "stream",
     "text": [
      "['Books', 'Bottles', 'Notebooks', 'Curd', 'Toys']\n",
      "\n"
     ]
    }
   ],
   "source": [
    "items.insert(2, \"Notebooks\")\n",
    "print(items)\n",
    "print()"
   ]
  },
  {
   "cell_type": "markdown",
   "metadata": {},
   "source": [
    "---\n",
    "---\n",
    "# <b>Slicing:</b><br>\n",
    "---\n",
    "---"
   ]
  },
  {
   "cell_type": "markdown",
   "metadata": {},
   "source": [
    "<pre>\n",
    "list_name [start : end+1]\n",
    "list_name [start_index : end_index+1]\n",
    "</pre>\n",
    "\n",
    "\n"
   ]
  },
  {
   "cell_type": "code",
   "execution_count": 9,
   "metadata": {},
   "outputs": [
    {
     "name": "stdout",
     "output_type": "stream",
     "text": [
      "['Books', 'Bottles', 'Notebooks']\n",
      "['Books', 'Bottles', 'Notebooks', 'Curd', 'Toys']\n",
      "['Books', 'Bottles', 'Notebooks', 'Curd']\n",
      "['Books', 'Bottles', 'Notebooks', 'Curd', 'Toys']\n",
      "\n"
     ]
    }
   ],
   "source": [
    "print(items[0:3])\n",
    "print(items[0:])\n",
    "print(items[:4])\n",
    "print(items[:])\n",
    "print()"
   ]
  },
  {
   "cell_type": "markdown",
   "metadata": {},
   "source": [
    "---\n",
    "---\n",
    "# <b>FIZZBUZZ GAME:</b><br>\n",
    "---\n",
    "---"
   ]
  },
  {
   "cell_type": "code",
   "execution_count": 10,
   "metadata": {},
   "outputs": [
    {
     "name": "stdout",
     "output_type": "stream",
     "text": [
      "1\n",
      "2\n",
      "3  Fizz\n",
      "4\n",
      "5  Buzz\n",
      "6  Fizz\n",
      "7\n",
      "8\n",
      "9  Fizz\n",
      "10  Buzz\n",
      "11\n",
      "12  Fizz\n",
      "13\n",
      "14\n",
      "15  Fizzbuzz\n",
      "16\n",
      "17\n",
      "18  Fizz\n",
      "19\n",
      "20  Buzz\n",
      "21  Fizz\n",
      "22\n",
      "23\n",
      "24  Fizz\n",
      "25  Buzz\n",
      "26\n",
      "27  Fizz\n",
      "28\n",
      "29\n",
      "30  Fizzbuzz\n",
      "31\n",
      "32\n",
      "33  Fizz\n",
      "34\n",
      "35  Buzz\n",
      "36  Fizz\n",
      "37\n",
      "38\n",
      "39  Fizz\n",
      "40  Buzz\n",
      "41\n",
      "42  Fizz\n",
      "43\n",
      "44\n",
      "45  Fizzbuzz\n",
      "46\n",
      "47\n",
      "48  Fizz\n",
      "49\n",
      "50  Buzz\n",
      "\n"
     ]
    }
   ],
   "source": [
    "def fizzbuzz(num):\n",
    "    for i in range(1, num):\n",
    "        if (i % 3 == 0 and i % 5 == 0):\n",
    "            print(i, \" Fizzbuzz\")\n",
    "        elif (i % 3 == 0):\n",
    "            print(i, \" Fizz\")\n",
    "        elif (i % 5 == 0):\n",
    "            print(i, \" Buzz\")\n",
    "        else:\n",
    "            print(i)\n",
    "\n",
    "\n",
    "fizzbuzz(51)\n",
    "print()"
   ]
  },
  {
   "cell_type": "markdown",
   "metadata": {},
   "source": [
    "---\n",
    "---\n",
    "# <b>CROWD COMPUTING:</b><br>\n",
    "---\n",
    "---"
   ]
  },
  {
   "cell_type": "markdown",
   "metadata": {},
   "source": [
    "![Alt text](image-10.png)"
   ]
  },
  {
   "cell_type": "markdown",
   "metadata": {},
   "source": [
    "![Alt text](image-11.png)"
   ]
  },
  {
   "cell_type": "markdown",
   "metadata": {},
   "source": [
    "![Alt text](image-12.png)"
   ]
  },
  {
   "cell_type": "markdown",
   "metadata": {},
   "source": [
    "![Alt text](image-13.png)"
   ]
  },
  {
   "cell_type": "markdown",
   "metadata": {},
   "source": [
    "![Alt text](image-14.png)"
   ]
  },
  {
   "cell_type": "markdown",
   "metadata": {},
   "source": [
    "![Alt text](image-15.png)"
   ]
  },
  {
   "cell_type": "markdown",
   "metadata": {},
   "source": [
    "---\n",
    "---\n",
    "# <b>PLOTTING THE GRAPH :</b><br>\n",
    "---\n",
    "---"
   ]
  },
  {
   "cell_type": "markdown",
   "metadata": {},
   "source": [
    "<br><br>\n",
    "### <b>Plotting the By Default Axis ( Y-Axis ) -</b><br>"
   ]
  },
  {
   "cell_type": "markdown",
   "metadata": {},
   "source": [
    "##### By default it takes the entered values as Y-Axis values\n",
    "\n",
    "##### If we don't pass any values for X-Axis it automatically generates X-Axis values\n"
   ]
  },
  {
   "cell_type": "code",
   "execution_count": 11,
   "metadata": {},
   "outputs": [
    {
     "data": {
      "text/plain": [
       "[<matplotlib.lines.Line2D at 0x24537b386d0>]"
      ]
     },
     "execution_count": 11,
     "metadata": {},
     "output_type": "execute_result"
    },
    {
     "data": {
      "image/png": "[encoded data removed]",
      "text/plain": [
       "<Figure size 640x480 with 1 Axes>"
      ]
     },
     "metadata": {},
     "output_type": "display_data"
    }
   ],
   "source": [
    "import matplotlib.pyplot as plt\n",
    "\n",
    "plt.plot([1, 2, 3, 4])"
   ]
  },
  {
   "cell_type": "markdown",
   "metadata": {},
   "source": [
    "<br><br>\n",
    "### <b>Plotting X and Y - Axis</b><br>"
   ]
  },
  {
   "cell_type": "code",
   "execution_count": 12,
   "metadata": {},
   "outputs": [
    {
     "data": {
      "text/plain": [
       "[<matplotlib.lines.Line2D at 0x24537ce7910>]"
      ]
     },
     "execution_count": 12,
     "metadata": {},
     "output_type": "execute_result"
    },
    {
     "data": {
      "image/png": "[encoded data removed]",
      "text/plain": [
       "<Figure size 640x480 with 1 Axes>"
      ]
     },
     "metadata": {},
     "output_type": "display_data"
    }
   ],
   "source": [
    "import matplotlib.pyplot as plt\n",
    "\n",
    "plt.plot([1, 2, 3, 4], [100, 400, 900, 1600])"
   ]
  },
  {
   "cell_type": "markdown",
   "metadata": {},
   "source": [
    "<br><br>\n",
    "### <b>Setting the levels:</b><br>"
   ]
  },
  {
   "cell_type": "code",
   "execution_count": 13,
   "metadata": {},
   "outputs": [
    {
     "data": {
      "text/plain": [
       "Text(0.5, 0, 'Numbers')"
      ]
     },
     "execution_count": 13,
     "metadata": {},
     "output_type": "execute_result"
    },
    {
     "data": {
      "image/png": "[encoded data removed]",
      "text/plain": [
       "<Figure size 640x480 with 1 Axes>"
      ]
     },
     "metadata": {},
     "output_type": "display_data"
    }
   ],
   "source": [
    "import matplotlib.pyplot as plt\n",
    "\n",
    "plt.plot([1, 2, 3, 4], [100, 400, 900, 1600])\n",
    "plt.ylabel(\"Sqrt Value\")\n",
    "plt.xlabel(\"Numbers\")"
   ]
  },
  {
   "cell_type": "markdown",
   "metadata": {},
   "source": [
    "<br><br>\n",
    "### <b>Plotting in the form of DOTS :</b><br>"
   ]
  },
  {
   "cell_type": "code",
   "execution_count": 14,
   "metadata": {},
   "outputs": [
    {
     "data": {
      "text/plain": [
       "Text(0.5, 0, 'Numbers')"
      ]
     },
     "execution_count": 14,
     "metadata": {},
     "output_type": "execute_result"
    },
    {
     "data": {
      "image/png": "[encoded data removed]",
      "text/plain": [
       "<Figure size 640x480 with 1 Axes>"
      ]
     },
     "metadata": {},
     "output_type": "display_data"
    }
   ],
   "source": [
    "import matplotlib.pyplot as plt\n",
    "\n",
    "plt.plot([1, 2, 3, 4], [100, 400, 900, 1600], \"ro\")\n",
    "plt.ylabel(\"Sqrt Value\")\n",
    "plt.xlabel(\"Numbers\")"
   ]
  },
  {
   "cell_type": "markdown",
   "metadata": {},
   "source": [
    "<br><br>\n",
    "### <b>Plotting in the form of DASHES:</b><br>"
   ]
  },
  {
   "cell_type": "code",
   "execution_count": 15,
   "metadata": {},
   "outputs": [
    {
     "data": {
      "text/plain": [
       "Text(0.5, 0, 'Numbers')"
      ]
     },
     "execution_count": 15,
     "metadata": {},
     "output_type": "execute_result"
    },
    {
     "data": {
      "image/png": "[encoded data removed]",
      "text/plain": [
       "<Figure size 640x480 with 1 Axes>"
      ]
     },
     "metadata": {},
     "output_type": "display_data"
    }
   ],
   "source": [
    "import matplotlib.pyplot as plt\n",
    "\n",
    "plt.plot([1, 2, 3, 4], [100, 400, 900, 1600], \"r--\")\n",
    "plt.ylabel(\"Sqrt Value\")\n",
    "plt.xlabel(\"Numbers\")"
   ]
  },
  {
   "cell_type": "markdown",
   "metadata": {},
   "source": [
    "<br><br>\n",
    "### <b>Plotting in the form of BLUE SQUARES:</b><br>"
   ]
  },
  {
   "cell_type": "code",
   "execution_count": 16,
   "metadata": {},
   "outputs": [
    {
     "data": {
      "text/plain": [
       "Text(0.5, 0, 'Numbers')"
      ]
     },
     "execution_count": 16,
     "metadata": {},
     "output_type": "execute_result"
    },
    {
     "data": {
      "image/png": "[encoded data removed]",
      "text/plain": [
       "<Figure size 640x480 with 1 Axes>"
      ]
     },
     "metadata": {},
     "output_type": "display_data"
    }
   ],
   "source": [
    "import matplotlib.pyplot as plt\n",
    "\n",
    "plt.plot([1, 2, 3, 4], [100, 400, 900, 1600], \"bs\")\n",
    "plt.ylabel(\"Sqrt Value\")\n",
    "plt.xlabel(\"Numbers\")"
   ]
  },
  {
   "cell_type": "markdown",
   "metadata": {},
   "source": [
    "<br><br>\n",
    "### <b>Plotting in the form of GREEN TRIANGLES:</b><br>"
   ]
  },
  {
   "cell_type": "code",
   "execution_count": 17,
   "metadata": {},
   "outputs": [
    {
     "data": {
      "text/plain": [
       "Text(0.5, 0, 'Numbers')"
      ]
     },
     "execution_count": 17,
     "metadata": {},
     "output_type": "execute_result"
    },
    {
     "data": {
      "image/png": "[encoded data removed]",
      "text/plain": [
       "<Figure size 640x480 with 1 Axes>"
      ]
     },
     "metadata": {},
     "output_type": "display_data"
    }
   ],
   "source": [
    "import matplotlib.pyplot as plt\n",
    "\n",
    "plt.plot([1, 2, 3, 4], [100, 400, 900, 1600], \"g^\")\n",
    "plt.ylabel(\"Sqrt Value\")\n",
    "plt.xlabel(\"Numbers\")"
   ]
  },
  {
   "cell_type": "markdown",
   "metadata": {},
   "source": [
    "<br><br>\n",
    "### <b>CALCULATING MEAN BY MATPLOTLIB:</b><br>"
   ]
  },
  {
   "cell_type": "code",
   "execution_count": 1,
   "metadata": {},
   "outputs": [
    {
     "name": "stdout",
     "output_type": "stream",
     "text": [
      "597\n"
     ]
    }
   ],
   "source": [
    "from statistics import mean\n",
    "\n",
    "# list containing a set of numerical values:\n",
    "Estimates = [1000, 1010, 1786, 2000, 1500, 1500, 100, 120, 150, 150, 500,\n",
    "             500, 550, 550, 600, 600, 720, 100, 600, 2000, 300, 1600, 150,\n",
    "             286, 163, 258, 852, 456, 654, 741, 147, 369, 963, 123, 321,]\n",
    "\n",
    "# sorting the Estimates list in ascending order:\n",
    "Estimates.sort()\n",
    "\n",
    "# calculates the value of excluding_num as 10% of the length of the Estimates list and converts it to an integer. \n",
    "# This value is used to determine how many values to exclude from each end of the sorted list.\n",
    "excluding_num = int(0.1*len(Estimates))\n",
    "\n",
    "# Slice the Estimates list, removing the first excluding_num elements from the beginning of the list.\n",
    "Estimates = Estimates[excluding_num:]\n",
    "\n",
    "# Slices the Estimates list again, removing the last excluding_num elements from the end of the list. \n",
    "# This effectively removes the top and bottom 10% of the sorted values.\n",
    "Estimates = Estimates[:len(Estimates)-excluding_num]\n",
    "\n",
    "print(mean(Estimates))"
   ]
  },
  {
   "cell_type": "markdown",
   "metadata": {},
   "source": [
    "<pre>\n",
    "In summary, this code is performing a data preprocessing step \n",
    "where it removes the top and bottom 10% of the values in the Estimates list.\n",
    "Thereafter it calculates the mean of the remaining values. \n",
    "This can be useful for eliminating outliers or extreme values from a dataset before performing further analysis.\n",
    "</pre>"
   ]
  },
  {
   "cell_type": "markdown",
   "metadata": {},
   "source": [
    "---\n",
    "---\n",
    "### <b>CALCULATING MEAN BY STATISTICS:</b><br>\n",
    "---\n",
    "---"
   ]
  },
  {
   "cell_type": "code",
   "execution_count": 3,
   "metadata": {},
   "outputs": [
    {
     "name": "stdout",
     "output_type": "stream",
     "text": [
      "597.0\n"
     ]
    }
   ],
   "source": [
    "from statistics import mean\n",
    "from scipy import stats\n",
    "\n",
    "# list containing a set of numerical values:\n",
    "Estimates = [1000, 1010, 1786, 2000, 1500, 1500, 100, 120, 150, 150, 500,\n",
    "             500, 550, 550, 600, 600, 720, 100, 600, 2000, 300, 1600, 150,\n",
    "             286, 163, 258, 852, 456, 654, 741, 147, 369, 963, 123, 321,]\n",
    "\n",
    "# sorting the Estimates list in ascending order:\n",
    "Estimates.sort()\n",
    "\n",
    "mean = stats.trim_mean(Estimates, 0.1)\n",
    "\n",
    "print(mean)"
   ]
  },
  {
   "cell_type": "markdown",
   "metadata": {},
   "source": [
    "---\n",
    "---\n",
    "### <b>PLOTTING THE MEAN AND MEDIAN:</b><br>\n",
    "---\n",
    "---"
   ]
  },
  {
   "cell_type": "code",
   "execution_count": 4,
   "metadata": {},
   "outputs": [
    {
     "data": {
      "text/plain": [
       "[<matplotlib.lines.Line2D at 0x206cd8b9d90>]"
      ]
     },
     "execution_count": 4,
     "metadata": {},
     "output_type": "execute_result"
    },
    {
     "data": {
      "image/png": "[encoded data removed]",
      "text/plain": [
       "<Figure size 640x480 with 1 Axes>"
      ]
     },
     "metadata": {},
     "output_type": "display_data"
    }
   ],
   "source": [
    "import statistics\n",
    "import matplotlib.pyplot as plt\n",
    "\n",
    "Estimates = [1000, 1010, 1786, 2000, 1500, 1500, 100, 120, 150, 150, 500,\n",
    "             500, 550, 550, 600, 600, 720, 100, 600, 2000, 300, 1600, 150,\n",
    "             286, 163, 258, 852, 456, 654, 741, 147, 369, 963, 123, 321,]\n",
    "Estimates.sort()\n",
    "\n",
    "excluding_num = int(0.1*len(Estimates))\n",
    "Estimates = Estimates[excluding_num:]\n",
    "Estimates = Estimates[:len(Estimates)-excluding_num]\n",
    "\n",
    "\n",
    "# Creating a list called y containing the value 5 repeated for the same number of times as there are elements in the modified Estimates list. \n",
    "# This is done to create a horizontal line at y = 5 in the plot.\n",
    "y = []\n",
    "\n",
    "for i in range(len(Estimates)):\n",
    "    y.append(5)\n",
    "\n",
    "plt.plot(Estimates, y, 'r--')\n",
    "\n",
    "plt.plot([statistics.mean(Estimates)], [5], 'ro')\n",
    "plt.plot([statistics.median(Estimates)], [5], 'bs')\n",
    "plt.plot([375], [5], 'g^')"
   ]
  },
  {
   "cell_type": "markdown",
   "metadata": {},
   "source": [
    "---\n",
    "---\n",
    "# <b>RANDOM LIBRARY:</b><br>\n",
    "---\n",
    "---"
   ]
  },
  {
   "cell_type": "markdown",
   "metadata": {},
   "source": [
    "<br><br>\n",
    "### <b>randint() function: form (lower limit) to (upper limit)</b><br>"
   ]
  },
  {
   "cell_type": "code",
   "execution_count": 18,
   "metadata": {},
   "outputs": [
    {
     "name": "stdout",
     "output_type": "stream",
     "text": [
      "47 61 41 45 "
     ]
    }
   ],
   "source": [
    "import random\n",
    "for i in range(4):\n",
    "    # both the bounds(lower and upper) are inclusive in randint:\n",
    "    print(random.randint(29, 64), end=\" \")"
   ]
  },
  {
   "cell_type": "markdown",
   "metadata": {},
   "source": [
    "<br><br>\n",
    "### <b>randrange() function: form (lower limit) to (upper limit - 1)</b><br>"
   ]
  },
  {
   "cell_type": "code",
   "execution_count": 19,
   "metadata": {},
   "outputs": [
    {
     "name": "stdout",
     "output_type": "stream",
     "text": [
      "31 36 46 60 "
     ]
    }
   ],
   "source": [
    "import random\n",
    "for i in range(4):\n",
    "    # randrange prints from (lower bound) to (upper bound - 1):\n",
    "    print(random.randrange(29, 64), end=\" \")"
   ]
  },
  {
   "cell_type": "code",
   "execution_count": 20,
   "metadata": {},
   "outputs": [
    {
     "name": "stdout",
     "output_type": "stream",
     "text": [
      "64 54 4 4 \n",
      "\n",
      "47 35 51 35 "
     ]
    }
   ],
   "source": [
    "import random\n",
    "\n",
    "for i in range(4):\n",
    "    print(random.randrange(0, 100, 2), end=\" \")\n",
    "\n",
    "print(\"\\n\")\n",
    "\n",
    "for i in range(4):\n",
    "    print(random.randrange(1, 100, 2), end=\" \")"
   ]
  },
  {
   "cell_type": "markdown",
   "metadata": {},
   "source": [
    "<br><br>\n",
    "### <b>random() function: form ( 0 ) to ( 1 )</b><br>"
   ]
  },
  {
   "cell_type": "code",
   "execution_count": 21,
   "metadata": {},
   "outputs": [
    {
     "name": "stdout",
     "output_type": "stream",
     "text": [
      "0.6565405389059019 0.7789166735619105 "
     ]
    }
   ],
   "source": [
    "import random\n",
    "\n",
    "for i in range(2):\n",
    "    # randrange prints numbers from 0 to 1:\n",
    "    print(random.random(), end=\" \")"
   ]
  },
  {
   "cell_type": "markdown",
   "metadata": {},
   "source": [
    "<br><br>\n",
    "### <b>choice() function: generates random numbers from a given list:</b><br>"
   ]
  },
  {
   "cell_type": "code",
   "execution_count": 22,
   "metadata": {},
   "outputs": [
    {
     "name": "stdout",
     "output_type": "stream",
     "text": [
      "3\n"
     ]
    }
   ],
   "source": [
    "print(random.choice([1, 2, 3, 4, 5]))"
   ]
  },
  {
   "cell_type": "markdown",
   "metadata": {},
   "source": [
    "---\n",
    "---\n",
    "# <b>PERMUTATION - JUMBLED WORDS:</b><br>\n",
    "---\n",
    "---"
   ]
  },
  {
   "cell_type": "code",
   "execution_count": 23,
   "metadata": {},
   "outputs": [
    {
     "name": "stdout",
     "output_type": "stream",
     "text": [
      "\n",
      "tamimtaechs\n",
      "Avinash  Your turn.\n",
      "Your score is:  1\n",
      "\n",
      "abto\n",
      "Jay  Your turn.\n",
      "Your score is:  1\n",
      "\n",
      "Avinash  Your score is:  1\n",
      "Jay  Your score is:  1\n",
      "\n",
      "Thnaks for playing !!\n"
     ]
    }
   ],
   "source": [
    "import random\n",
    "\n",
    "\n",
    "def choose():\n",
    "    words = [\"rainbow\", \"computer\", \"science\", \"programming\",\n",
    "             \"mathematics\", \"player\", \"condition\", \"reverse\", \"water\", \"boat\"]\n",
    "    pick = random.choice(words)\n",
    "    return pick\n",
    "\n",
    "\n",
    "def jumble(word):\n",
    "    jumbled = \"\".join(random.sample(word, len(word)))\n",
    "    return jumbled\n",
    "\n",
    "\n",
    "def thank(p1name, p2name, pp1, pp2):\n",
    "    print()\n",
    "    print(p1name, \" Your score is: \", pp1)\n",
    "    print(p2name, \" Your score is: \", pp2)\n",
    "    print()\n",
    "    print(\"Thnaks for playing !!\")\n",
    "\n",
    "\n",
    "def play():\n",
    "    p1name = input(\"Player 1, Please enter your name: \")\n",
    "    p2name = input(\"Player 2, Please enter your name: \")\n",
    "    pp1 = 0\n",
    "    pp2 = 0\n",
    "    turn = 0\n",
    "    while (1):\n",
    "        # computer's task\n",
    "        picked_word = choose()\n",
    "\n",
    "        # create question\n",
    "        qn = jumble(picked_word)\n",
    "        print()\n",
    "        print(qn)\n",
    "\n",
    "        # for Player - 1:\n",
    "        if (turn % 2 == 0):\n",
    "            print(p1name, \" Your turn.\")\n",
    "            ans = input(\"What is on your mind: \")\n",
    "            if (ans == picked_word):\n",
    "                pp1 = pp1 + 1\n",
    "                print(\"Your score is: \", pp1)\n",
    "            else:\n",
    "                print(\"Better Luck next time !!\")\n",
    "\n",
    "            choice = int(input(\"Press 1 for continue or 0 to quit\"))\n",
    "            if (choice == 0):\n",
    "                thank(p1name, p2name, pp1, pp2)\n",
    "                break\n",
    "\n",
    "        # for Player - 2:\n",
    "        else:\n",
    "            print(p2name, \" Your turn.\")\n",
    "            ans = input(\"What is on your mind: \")\n",
    "            if (ans == picked_word):\n",
    "                pp2 = pp2 + 1\n",
    "                print(\"Your score is: \", pp2)\n",
    "            else:\n",
    "                print(\"Better Luck next time !!\")\n",
    "\n",
    "            choice = int(input(\"Press 1 for continue or 0 to quit\"))\n",
    "            if (choice == 0):\n",
    "                thank(p1name, p2name, pp1, pp2)\n",
    "                break\n",
    "\n",
    "        turn = turn + 1\n",
    "\n",
    "\n",
    "play()"
   ]
  },
  {
   "cell_type": "markdown",
   "metadata": {},
   "source": [
    "---\n",
    "---\n",
    "# <b>FILE HANDLING:</b><br>\n",
    "---\n",
    "---"
   ]
  },
  {
   "cell_type": "markdown",
   "metadata": {},
   "source": [
    "<br><br>\n",
    "### <b>Reading content from a txt file:</b><br>"
   ]
  },
  {
   "cell_type": "code",
   "execution_count": 24,
   "metadata": {},
   "outputs": [
    {
     "name": "stdout",
     "output_type": "stream",
     "text": [
      "Hello!! How are you ?\n",
      "I'm fine.\n",
      "I'm fine.\n",
      "I'm fine.\n"
     ]
    }
   ],
   "source": [
    "with open(\"Week_03.txt\") as myfile:\n",
    "    print(myfile.read())"
   ]
  },
  {
   "cell_type": "markdown",
   "metadata": {},
   "source": [
    "<br><br>\n",
    "### <b>Writing content to a txt file:</b><br>"
   ]
  },
  {
   "cell_type": "code",
   "execution_count": 25,
   "metadata": {},
   "outputs": [],
   "source": [
    "with open(\"Week_03.txt\", \"a\") as myfile:\n",
    "    myfile.write(\"\\nI'm fine.\")\n",
    "myfile.close()"
   ]
  },
  {
   "cell_type": "code",
   "execution_count": 26,
   "metadata": {},
   "outputs": [
    {
     "name": "stdout",
     "output_type": "stream",
     "text": [
      "Hello!! How are you ?\n",
      "I'm fine.\n",
      "I'm fine.\n",
      "I'm fine.\n",
      "I'm fine.\n"
     ]
    }
   ],
   "source": [
    "with open(\"Week_03.txt\") as myfile:\n",
    "    print(myfile.read())"
   ]
  },
  {
   "cell_type": "markdown",
   "metadata": {},
   "source": [
    "---\n",
    "---\n",
    "# <b>THEORY OF EVOLUTION:</b><br>\n",
    "---\n",
    "---"
   ]
  },
  {
   "cell_type": "code",
   "execution_count": 27,
   "metadata": {},
   "outputs": [
    {
     "name": "stdout",
     "output_type": "stream",
     "text": [
      "35\n",
      "67\n",
      "1\n",
      "61\n",
      "89\n",
      "16\n",
      "67\n",
      "7\n",
      "97\n",
      "22\n",
      "58\n",
      "23\n",
      "49\n",
      "86\n",
      "44\n",
      "32\n",
      "63\n",
      "78\n",
      "87\n",
      "47\n",
      "79\n",
      "90\n",
      "92\n",
      "76\n",
      "25\n",
      "75\n",
      "99\n",
      "31\n",
      "70\n",
      "29\n",
      "67\n",
      "49\n",
      "8\n",
      "73\n",
      "14\n",
      "85\n",
      "38\n",
      "24\n",
      "65\n",
      "54\n",
      "72\n",
      "29\n",
      "32\n",
      "41\n",
      "98\n",
      "40\n",
      "81\n",
      "67\n",
      "56\n",
      "1\n",
      "65\n",
      "46\n",
      "35\n",
      "90\n",
      "28\n",
      "56\n",
      "82\n",
      "16\n",
      "18\n",
      "51\n",
      "82\n",
      "46\n",
      "75\n",
      "46\n",
      "97\n",
      "74\n",
      "5\n",
      "9\n",
      "3\n",
      "94\n",
      "59\n",
      "85\n",
      "27\n",
      "90\n",
      "23\n",
      "71\n",
      "92\n",
      "16\n",
      "86\n",
      "54\n",
      "99\n",
      "30\n",
      "72\n",
      "68\n",
      "78\n",
      "43\n",
      "37\n",
      "30\n",
      "51\n",
      "29\n",
      "41\n",
      "95\n",
      "53\n",
      "60\n",
      "58\n",
      "16\n",
      "97\n",
      "54\n",
      "15\n",
      "50\n",
      "5\n",
      "91\n",
      "4\n",
      "88\n",
      "49\n",
      "27\n",
      "54\n",
      "65\n",
      "58\n",
      "48\n",
      "60\n",
      "82\n",
      "89\n",
      "17\n",
      "40\n",
      "53\n",
      "83\n",
      "42\n",
      "57\n",
      "51\n",
      "47\n",
      "36\n",
      "84\n",
      "6\n",
      "4\n",
      "84\n",
      "21\n",
      "97\n",
      "81\n",
      "30\n",
      "8\n",
      "64\n",
      "18\n",
      "23\n",
      "10\n",
      "53\n",
      "54\n",
      "96\n",
      "77\n",
      "41\n",
      "40\n",
      "90\n",
      "33\n",
      "46\n",
      "93\n",
      "8\n",
      "91\n",
      "65\n",
      "['1', '0', '0', '1', '0', '0', '1', '0', '1', '1', '0', '1', '0', '0', '1', '0', '0', '0', '1', '0', '1', '1', '0', '1', '0', '1', '0', '1', '1', '1', '0', '1', '0', '1', '0', '1', '1', '0', '0', '1', '1', '0', '1', '0', '1', '0', '1', '0', '1', '0', '0', '0', '1', '1', '0', '1', '0', '1', '1', '1', '0', '1', '0', '1', '1', '1', '1', '0', '1', '1', '0', '1', '0', '1', '1', '0', '0', '1', '0', '0', '1', '0', '1', '1', '0', '1', '0', '0', '1', '0', '0', '0', '1', '0', '1', '1', '0', '0', '0', '1', '0', '1', '1', '0', '0', '1', '0', '1', '0', '1', '1', '0', '0', '1', '1', '0', '1', '0', '1', '0', '1', '0', '1', '0', '0', '0', '1', '1', '0', '1', '0', '1', '1', '1', '0', '1', '0', '1', '1', '1', '1', '0', '1', '1', '0', '1', '0', '1']\n"
     ]
    }
   ],
   "source": [
    "import random\n",
    "\n",
    "\n",
    "def evolve(x):\n",
    "    index = random.randint(0, len(x)-1)\n",
    "    num = random.randint(1, 100)\n",
    "    print(num)\n",
    "    if (num == 1):\n",
    "        if (x[index] == '0'):\n",
    "            x[index] = '1'\n",
    "        else:\n",
    "            x[index] = '0'\n",
    "\n",
    "\n",
    "with open(\"Week_03_DNA.txt\") as dna:\n",
    "    x = dna.read()\n",
    "    x = list(x)\n",
    "\n",
    "for i in range(0, len(x)):\n",
    "    evolve(x)\n",
    "\n",
    "print(x)"
   ]
  },
  {
   "cell_type": "markdown",
   "metadata": {},
   "source": [
    "<br><br><br>"
   ]
  },
  {
   "cell_type": "markdown",
   "metadata": {},
   "source": [
    "---\n",
    "---\n",
    "\n",
    "> <br><br><br><br>\n",
    ">\n",
    "> # <center><b>Week 03: Assignment</b></center>\n",
    ">\n",
    "> <br><br><br><br>\n",
    "\n",
    "---\n",
    "---"
   ]
  },
  {
   "cell_type": "markdown",
   "metadata": {},
   "source": [
    "## <center><b>QUESTION - 01</b></center>"
   ]
  },
  {
   "cell_type": "markdown",
   "metadata": {},
   "source": [
    "![Alt text](image.png)\n"
   ]
  },
  {
   "cell_type": "code",
   "execution_count": 34,
   "metadata": {},
   "outputs": [
    {
     "name": "stdout",
     "output_type": "stream",
     "text": [
      "['c', 'd', 'e']\n"
     ]
    }
   ],
   "source": [
    "L = [\"a\", \"b\", \"c\", \"d\", \"e\", \"f\", \"g\", \"h\"]\n",
    "print(L[2:5])"
   ]
  },
  {
   "cell_type": "markdown",
   "metadata": {},
   "source": [
    "## <center><b>QUESTION - 02</b></center>\n"
   ]
  },
  {
   "cell_type": "markdown",
   "metadata": {},
   "source": [
    "![Alt text](image-1.png)\n"
   ]
  },
  {
   "cell_type": "markdown",
   "metadata": {},
   "source": [
    "## <center><b>QUESTION - 03</b></center>\n"
   ]
  },
  {
   "cell_type": "markdown",
   "metadata": {},
   "source": [
    "![Alt text](image-2.png)\n"
   ]
  },
  {
   "cell_type": "markdown",
   "metadata": {},
   "source": [
    "## <center><b>QUESTION - 04</b></center>\n"
   ]
  },
  {
   "cell_type": "markdown",
   "metadata": {},
   "source": [
    "![Alt text](image-3.png)\n"
   ]
  },
  {
   "cell_type": "markdown",
   "metadata": {},
   "source": [
    "## <center><b>QUESTION - 05</b></center>\n"
   ]
  },
  {
   "cell_type": "markdown",
   "metadata": {},
   "source": [
    "![Alt text](image-4.png)\n"
   ]
  },
  {
   "cell_type": "markdown",
   "metadata": {},
   "source": [
    "## <center><b>QUESTION - 06</b></center>\n"
   ]
  },
  {
   "cell_type": "markdown",
   "metadata": {},
   "source": [
    "![Alt text](image-5.png)\n"
   ]
  },
  {
   "cell_type": "code",
   "execution_count": 29,
   "metadata": {},
   "outputs": [
    {
     "name": "stdout",
     "output_type": "stream",
     "text": [
      "1\n",
      "2\n",
      "Fizz\n",
      "4\n",
      "Buzz\n",
      "Fizz\n",
      "7\n",
      "8\n",
      "Fizz\n",
      "Buzz\n",
      "11\n",
      "Fizz\n",
      "13\n",
      "14\n",
      "FizzBuzz\n",
      "16\n",
      "17\n",
      "Fizz\n",
      "19\n",
      "Buzz\n"
     ]
    }
   ],
   "source": [
    "for i in range(1, 21):\n",
    "    if i % 3 == 0 and i % 5 == 0:\n",
    "        print(\"FizzBuzz\")\n",
    "    elif i % 3 == 0:\n",
    "        print(\"Fizz\")\n",
    "    elif i % 5 == 0:\n",
    "        print(\"Buzz\")\n",
    "    else:\n",
    "        print(i)"
   ]
  },
  {
   "cell_type": "markdown",
   "metadata": {},
   "source": [
    "## <center><b>QUESTION - 07</b></center>\n"
   ]
  },
  {
   "cell_type": "markdown",
   "metadata": {},
   "source": [
    "![Alt text](image-6.png)\n"
   ]
  },
  {
   "cell_type": "code",
   "execution_count": 30,
   "metadata": {},
   "outputs": [
    {
     "name": "stdout",
     "output_type": "stream",
     "text": [
      "2\n"
     ]
    }
   ],
   "source": [
    "a = 5\n",
    "b = 2\n",
    "print(a // b)"
   ]
  },
  {
   "cell_type": "markdown",
   "metadata": {},
   "source": [
    "## <center><b>QUESTION - 08</b></center>\n"
   ]
  },
  {
   "cell_type": "markdown",
   "metadata": {},
   "source": [
    "![Alt text](image-7.png)\n"
   ]
  },
  {
   "cell_type": "code",
   "execution_count": 31,
   "metadata": {},
   "outputs": [
    {
     "name": "stdout",
     "output_type": "stream",
     "text": [
      "olleh\n"
     ]
    }
   ],
   "source": [
    "s = \"hello\"\n",
    "print(s[::-1])"
   ]
  },
  {
   "cell_type": "markdown",
   "metadata": {},
   "source": [
    "## <center><b>QUESTION - 09</b></center>\n"
   ]
  },
  {
   "cell_type": "markdown",
   "metadata": {},
   "source": [
    "![Alt text](image-8.png)\n"
   ]
  },
  {
   "cell_type": "code",
   "execution_count": 32,
   "metadata": {},
   "outputs": [
    {
     "name": "stdout",
     "output_type": "stream",
     "text": [
      "0\n"
     ]
    }
   ],
   "source": [
    "a = 10\n",
    "b = 5\n",
    "c = a % b\n",
    "print(c)"
   ]
  },
  {
   "cell_type": "markdown",
   "metadata": {},
   "source": [
    "## <center><b>QUESTION - 10</b></center>\n"
   ]
  },
  {
   "cell_type": "markdown",
   "metadata": {},
   "source": [
    "![Alt text](image-9.png)\n"
   ]
  },
  {
   "cell_type": "code",
   "execution_count": 33,
   "metadata": {},
   "outputs": [
    {
     "name": "stdout",
     "output_type": "stream",
     "text": [
      "yth\n"
     ]
    }
   ],
   "source": [
    "s = \"python\"\n",
    "print(s[1:4])"
   ]
  },
  {
   "cell_type": "markdown",
   "metadata": {},
   "source": [
    "---\n",
    "---"
   ]
  }
 ],
 "metadata": {
  "kernelspec": {
   "display_name": "Python 3",
   "language": "python",
   "name": "python3"
  },
  "language_info": {
   "codemirror_mode": {
    "name": "ipython",
    "version": 3
   },
   "file_extension": ".py",
   "mimetype": "text/x-python",
   "name": "python",
   "nbconvert_exporter": "python",
   "pygments_lexer": "ipython3",
   "version": "3.11.5"
  },
  "orig_nbformat": 4
 },
 "nbformat": 4,
 "nbformat_minor": 2
}
