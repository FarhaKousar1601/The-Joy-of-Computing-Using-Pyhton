{
 "cells": [
  {
   "cell_type": "markdown",
   "metadata": {},
   "source": [
    "# <center><b><u>WEEK 03:</u></b></center>"
   ]
  },
  {
   "cell_type": "markdown",
   "metadata": {},
   "source": [
    "# <center><b>LIST</b></center>\n"
   ]
  },
  {
   "cell_type": "markdown",
   "metadata": {},
   "source": [
    "[<b>PROGRAMIZ LIST FUNCTIOS</b>](https://www.programiz.com/python-programming/methods/list/index#google_vignette)"
   ]
  },
  {
   "cell_type": "code",
   "execution_count": 5,
   "metadata": {},
   "outputs": [
    {
     "name": "stdout",
     "output_type": "stream",
     "text": [
      "['Bottles', 'Toys', 'Books']\n",
      "\n"
     ]
    }
   ],
   "source": [
    "items = [\"Bottles\", \"Toys\", \"Books\"]\n",
    "print(items)\n",
    "print()"
   ]
  },
  {
   "cell_type": "markdown",
   "metadata": {},
   "source": [
    "### <i>Printing the items of the list one by one:</i>\n"
   ]
  },
  {
   "cell_type": "code",
   "execution_count": null,
   "metadata": {},
   "outputs": [],
   "source": [
    "for item in items:\n",
    "    print(item)\n",
    "print()"
   ]
  },
  {
   "cell_type": "markdown",
   "metadata": {},
   "source": [
    "### <i>Appending new item in the given list:</i>\n"
   ]
  },
  {
   "cell_type": "code",
   "execution_count": null,
   "metadata": {},
   "outputs": [],
   "source": [
    "items.append(\"Curd\")\n",
    "print(items)\n",
    "print()"
   ]
  },
  {
   "cell_type": "markdown",
   "metadata": {},
   "source": [
    "### Counting apperance of a particular item in the list:\n"
   ]
  },
  {
   "cell_type": "code",
   "execution_count": null,
   "metadata": {},
   "outputs": [],
   "source": [
    "print(items.count(\"Toys\"))\n",
    "print()"
   ]
  },
  {
   "cell_type": "markdown",
   "metadata": {},
   "source": [
    "### Counting total items in the list:\n"
   ]
  },
  {
   "cell_type": "code",
   "execution_count": null,
   "metadata": {},
   "outputs": [],
   "source": [
    "print(len(items))\n",
    "print()"
   ]
  },
  {
   "cell_type": "markdown",
   "metadata": {},
   "source": [
    "### Sorting the item in the list:\n"
   ]
  },
  {
   "cell_type": "code",
   "execution_count": null,
   "metadata": {},
   "outputs": [],
   "source": [
    "items.sort()\n",
    "print(items)\n",
    "\n",
    "items.sort(reverse=True)\n",
    "print(items)"
   ]
  },
  {
   "cell_type": "markdown",
   "metadata": {},
   "source": [
    "### Reversing the list:\n"
   ]
  },
  {
   "cell_type": "code",
   "execution_count": null,
   "metadata": {},
   "outputs": [],
   "source": [
    "items.reverse()\n",
    "print(items)\n",
    "print()"
   ]
  },
  {
   "cell_type": "markdown",
   "metadata": {},
   "source": [
    "### Inserting a value in the list:\n"
   ]
  },
  {
   "cell_type": "code",
   "execution_count": null,
   "metadata": {},
   "outputs": [],
   "source": [
    "items.insert(2, \"Notebooks\")\n",
    "print(items)\n",
    "print()"
   ]
  },
  {
   "cell_type": "markdown",
   "metadata": {},
   "source": [
    "### Slicing\n"
   ]
  },
  {
   "cell_type": "markdown",
   "metadata": {},
   "source": [
    "##### list_name [start : end+1]\n",
    "\n",
    "##### list_name [start_index : end_index+1]\n"
   ]
  },
  {
   "cell_type": "code",
   "execution_count": null,
   "metadata": {},
   "outputs": [],
   "source": [
    "print(items[0:3])\n",
    "print(items[0:])\n",
    "print(items[:4])\n",
    "print(items[:])\n",
    "print()"
   ]
  },
  {
   "cell_type": "markdown",
   "metadata": {},
   "source": [
    "# FIZZBUZZ GAME:\n"
   ]
  },
  {
   "cell_type": "code",
   "execution_count": null,
   "metadata": {},
   "outputs": [],
   "source": [
    "def fizzbuzz(num):\n",
    "    for i in range(1, num):\n",
    "        if (i % 3 == 0 and i % 5 == 0):\n",
    "            print(i, \" Fizzbuzz\")\n",
    "        elif (i % 3 == 0):\n",
    "            print(i, \" Fizz\")\n",
    "        elif (i % 5 == 0):\n",
    "            print(i, \" Buzz\")\n",
    "        else:\n",
    "            print(i)\n",
    "\n",
    "\n",
    "fizzbuzz(51)\n",
    "print()"
   ]
  },
  {
   "cell_type": "markdown",
   "metadata": {},
   "source": [
    "# PLOTTING THE GRAPH :\n"
   ]
  },
  {
   "cell_type": "markdown",
   "metadata": {},
   "source": [
    "### Plotting the By Default Axis ( Y-Axis ) -\n"
   ]
  },
  {
   "cell_type": "markdown",
   "metadata": {},
   "source": [
    "##### By default it takes the entered values as Y-Axis values\n",
    "\n",
    "##### If we don't pass any values for X-Axis it automatically generates X-Axis values\n"
   ]
  },
  {
   "cell_type": "code",
   "execution_count": null,
   "metadata": {},
   "outputs": [],
   "source": [
    "import matplotlib.pyplot as plt\n",
    "\n",
    "plt.plot([1, 2, 3, 4])"
   ]
  },
  {
   "cell_type": "markdown",
   "metadata": {},
   "source": [
    "### Plotting X and Y - Axis\n"
   ]
  },
  {
   "cell_type": "code",
   "execution_count": null,
   "metadata": {},
   "outputs": [],
   "source": [
    "import matplotlib.pyplot as plt\n",
    "\n",
    "plt.plot([1, 2, 3, 4], [100, 400, 900, 1600])"
   ]
  },
  {
   "cell_type": "markdown",
   "metadata": {},
   "source": [
    "### Setting the levels\n"
   ]
  },
  {
   "cell_type": "code",
   "execution_count": null,
   "metadata": {},
   "outputs": [],
   "source": [
    "import matplotlib.pyplot as plt\n",
    "\n",
    "plt.plot([1, 2, 3, 4], [100, 400, 900, 1600])\n",
    "plt.ylabel(\"Sqrt Value\")\n",
    "plt.xlabel(\"Numbers\")"
   ]
  },
  {
   "cell_type": "markdown",
   "metadata": {},
   "source": [
    "### Plotting in the form of DOTS :\n"
   ]
  },
  {
   "cell_type": "code",
   "execution_count": null,
   "metadata": {},
   "outputs": [],
   "source": [
    "import matplotlib.pyplot as plt\n",
    "\n",
    "plt.plot([1, 2, 3, 4], [100, 400, 900, 1600], \"ro\")\n",
    "plt.ylabel(\"Sqrt Value\")\n",
    "plt.xlabel(\"Numbers\")"
   ]
  },
  {
   "cell_type": "markdown",
   "metadata": {},
   "source": [
    "### Plotting in the form of DASHES:\n"
   ]
  },
  {
   "cell_type": "code",
   "execution_count": null,
   "metadata": {},
   "outputs": [],
   "source": [
    "import matplotlib.pyplot as plt\n",
    "\n",
    "plt.plot([1, 2, 3, 4], [100, 400, 900, 1600], \"r--\")\n",
    "plt.ylabel(\"Sqrt Value\")\n",
    "plt.xlabel(\"Numbers\")"
   ]
  },
  {
   "cell_type": "markdown",
   "metadata": {},
   "source": [
    "### Plotting in the form of BLUE SQUARES:\n"
   ]
  },
  {
   "cell_type": "code",
   "execution_count": null,
   "metadata": {},
   "outputs": [],
   "source": [
    "import matplotlib.pyplot as plt\n",
    "\n",
    "plt.plot([1, 2, 3, 4], [100, 400, 900, 1600], \"bs\")\n",
    "plt.ylabel(\"Sqrt Value\")\n",
    "plt.xlabel(\"Numbers\")"
   ]
  },
  {
   "cell_type": "markdown",
   "metadata": {},
   "source": [
    "### Plotting in the form of GREEN TRIANGLES:\n"
   ]
  },
  {
   "cell_type": "code",
   "execution_count": null,
   "metadata": {},
   "outputs": [],
   "source": [
    "import matplotlib.pyplot as plt\n",
    "\n",
    "plt.plot([1, 2, 3, 4], [100, 400, 900, 1600], \"g^\")\n",
    "plt.ylabel(\"Sqrt Value\")\n",
    "plt.xlabel(\"Numbers\")"
   ]
  },
  {
   "cell_type": "markdown",
   "metadata": {},
   "source": [
    "# RANDOM LIBRARY:\n"
   ]
  },
  {
   "cell_type": "markdown",
   "metadata": {},
   "source": [
    "### randint() function: form (lower limit) to (upper limit)\n"
   ]
  },
  {
   "cell_type": "code",
   "execution_count": null,
   "metadata": {},
   "outputs": [],
   "source": [
    "import random\n",
    "for i in range(4):\n",
    "    # both the bounds(lower and upper) are inclusive in randint:\n",
    "    print(random.randint(29, 64), end=\" \")"
   ]
  },
  {
   "cell_type": "markdown",
   "metadata": {},
   "source": [
    "### randrange() function: form (lower limit) to (upper limit - 1)\n"
   ]
  },
  {
   "cell_type": "code",
   "execution_count": null,
   "metadata": {},
   "outputs": [],
   "source": [
    "import random\n",
    "for i in range(4):\n",
    "    # randrange prints from (lower bound) to (upper bound - 1):\n",
    "    print(random.randrange(29, 64), end=\" \")"
   ]
  },
  {
   "cell_type": "code",
   "execution_count": null,
   "metadata": {},
   "outputs": [],
   "source": [
    "import random\n",
    "\n",
    "for i in range(4):\n",
    "    print(random.randrange(0, 100, 2), end=\" \")\n",
    "\n",
    "print(\"\\n\")\n",
    "\n",
    "for i in range(4):\n",
    "    print(random.randrange(1, 100, 2), end=\" \")"
   ]
  },
  {
   "cell_type": "markdown",
   "metadata": {},
   "source": [
    "### random() function: form ( 0 ) to ( 1 )\n"
   ]
  },
  {
   "cell_type": "code",
   "execution_count": null,
   "metadata": {},
   "outputs": [],
   "source": [
    "import random\n",
    "\n",
    "for i in range(2):\n",
    "    # randrange prints numbers from 0 to 1:\n",
    "    print(random.random(), end=\" \")"
   ]
  },
  {
   "cell_type": "markdown",
   "metadata": {},
   "source": [
    "### choice() function: generates random numbers from a given list:\n"
   ]
  },
  {
   "cell_type": "code",
   "execution_count": null,
   "metadata": {},
   "outputs": [],
   "source": [
    "print(random.choice([1, 2, 3, 4, 5]))"
   ]
  },
  {
   "cell_type": "markdown",
   "metadata": {},
   "source": [
    "# PERMUTATION - JUMBLED WORDS:\n"
   ]
  },
  {
   "cell_type": "code",
   "execution_count": null,
   "metadata": {},
   "outputs": [],
   "source": [
    "import random\n",
    "\n",
    "\n",
    "def choose():\n",
    "    words = [\"rainbow\", \"computer\", \"science\", \"programming\",\n",
    "             \"mathematics\", \"player\", \"condition\", \"reverse\", \"water\", \"boat\"]\n",
    "    pick = random.choice(words)\n",
    "    return pick\n",
    "\n",
    "\n",
    "def jumble(word):\n",
    "    jumbled = \"\".join(random.sample(word, len(word)))\n",
    "    return jumbled\n",
    "\n",
    "\n",
    "def thank(p1name, p2name, pp1, pp2):\n",
    "    print()\n",
    "    print(p1name, \" Your score is: \", pp1)\n",
    "    print(p2name, \" Your score is: \", pp2)\n",
    "    print()\n",
    "    print(\"Thnaks for playing !!\")\n",
    "\n",
    "\n",
    "def play():\n",
    "    p1name = input(\"Player 1, Please enter your name: \")\n",
    "    p2name = input(\"Player 2, Please enter your name: \")\n",
    "    pp1 = 0\n",
    "    pp2 = 0\n",
    "    turn = 0\n",
    "    while (1):\n",
    "        # computer's task\n",
    "        picked_word = choose()\n",
    "\n",
    "        # create question\n",
    "        qn = jumble(picked_word)\n",
    "        print()\n",
    "        print(qn)\n",
    "\n",
    "        # for Player - 1:\n",
    "        if (turn % 2 == 0):\n",
    "            print(p1name, \" Your turn.\")\n",
    "            ans = input(\"What is on your mind: \")\n",
    "            if (ans == picked_word):\n",
    "                pp1 = pp1 + 1\n",
    "                print(\"Your score is: \", pp1)\n",
    "            else:\n",
    "                print(\"Better Luck next time !!\")\n",
    "\n",
    "            choice = int(input(\"Press 1 for continue or 0 to quit\"))\n",
    "            if (choice == 0):\n",
    "                thank(p1name, p2name, pp1, pp2)\n",
    "                break\n",
    "\n",
    "        # for Player - 2:\n",
    "        else:\n",
    "            print(p2name, \" Your turn.\")\n",
    "            ans = input(\"What is on your mind: \")\n",
    "            if (ans == picked_word):\n",
    "                pp2 = pp2 + 1\n",
    "                print(\"Your score is: \", pp2)\n",
    "            else:\n",
    "                print(\"Better Luck next time !!\")\n",
    "\n",
    "            choice = int(input(\"Press 1 for continue or 0 to quit\"))\n",
    "            if (choice == 0):\n",
    "                thank(p1name, p2name, pp1, pp2)\n",
    "                break\n",
    "\n",
    "        turn = turn + 1\n",
    "\n",
    "\n",
    "play()"
   ]
  },
  {
   "cell_type": "markdown",
   "metadata": {},
   "source": [
    "# FILE HANDLING:\n"
   ]
  },
  {
   "cell_type": "markdown",
   "metadata": {},
   "source": [
    "### Reading content from a txt file:\n"
   ]
  },
  {
   "cell_type": "code",
   "execution_count": null,
   "metadata": {},
   "outputs": [],
   "source": [
    "with open(\"Week_03.txt\") as myfile:\n",
    "    print(myfile.read())"
   ]
  },
  {
   "cell_type": "markdown",
   "metadata": {},
   "source": [
    "### Writing content to a txt file:\n"
   ]
  },
  {
   "cell_type": "code",
   "execution_count": null,
   "metadata": {},
   "outputs": [],
   "source": [
    "with open(\"Week_03.txt\", \"a\") as myfile:\n",
    "    myfile.write(\"\\nI'm fine.\")\n",
    "myfile.close()"
   ]
  },
  {
   "cell_type": "code",
   "execution_count": null,
   "metadata": {},
   "outputs": [],
   "source": [
    "with open(\"Week_03.txt\") as myfile:\n",
    "    print(myfile.read())"
   ]
  },
  {
   "cell_type": "markdown",
   "metadata": {},
   "source": [
    "# THEORY OF EVOLUTION:\n"
   ]
  },
  {
   "cell_type": "code",
   "execution_count": null,
   "metadata": {},
   "outputs": [],
   "source": [
    "import random\n",
    "\n",
    "\n",
    "def evolve(x):\n",
    "    index = random.randint(0, len(x)-1)\n",
    "    num = random.randint(1, 100)\n",
    "    print(num)\n",
    "    if (num == 1):\n",
    "        if (x[index] == '0'):\n",
    "            x[index] = '1'\n",
    "        else:\n",
    "            x[index] = '0'\n",
    "\n",
    "\n",
    "with open(\"Week_03_DNA.txt\") as dna:\n",
    "    x = dna.read()\n",
    "    x = list(x)\n",
    "\n",
    "for i in range(0, len(x)):\n",
    "    evolve(x)\n",
    "\n",
    "print(x)"
   ]
  },
  {
   "cell_type": "markdown",
   "metadata": {},
   "source": [
    "# ASSIGNMENTS QUESTIONS:\n"
   ]
  },
  {
   "cell_type": "code",
   "execution_count": null,
   "metadata": {},
   "outputs": [],
   "source": [
    "L = [\"a\", \"b\", \"c\", \"d\", \"e\", \"f\", \"g\", \"h\"]\n",
    "print(L[2:5])"
   ]
  },
  {
   "cell_type": "code",
   "execution_count": null,
   "metadata": {},
   "outputs": [],
   "source": [
    "for i in range(1, 21):\n",
    "    if i % 3 == 0 and i % 5 == 0:\n",
    "        print(\"FizzBuzz\")\n",
    "    elif i % 3 == 0:\n",
    "        print(\"Fizz\")\n",
    "    elif i % 5 == 0:\n",
    "        print(\"Buzz\")\n",
    "    else:\n",
    "        print(i)"
   ]
  },
  {
   "cell_type": "code",
   "execution_count": null,
   "metadata": {},
   "outputs": [],
   "source": [
    "a = 5\n",
    "b = 2\n",
    "print(a // b)"
   ]
  },
  {
   "cell_type": "code",
   "execution_count": null,
   "metadata": {},
   "outputs": [],
   "source": [
    "s = \"hello\"\n",
    "print(s[::-1])"
   ]
  },
  {
   "cell_type": "code",
   "execution_count": null,
   "metadata": {},
   "outputs": [],
   "source": [
    "a = 10\n",
    "b = 5\n",
    "c = a % b\n",
    "print(c)"
   ]
  },
  {
   "cell_type": "code",
   "execution_count": null,
   "metadata": {},
   "outputs": [],
   "source": [
    "s = \"python\"\n",
    "print(s[1:4])"
   ]
  }
 ],
 "metadata": {
  "kernelspec": {
   "display_name": "Python 3",
   "language": "python",
   "name": "python3"
  },
  "language_info": {
   "codemirror_mode": {
    "name": "ipython",
    "version": 3
   },
   "file_extension": ".py",
   "mimetype": "text/x-python",
   "name": "python",
   "nbconvert_exporter": "python",
   "pygments_lexer": "ipython3",
   "version": "3.11.4"
  },
  "orig_nbformat": 4
 },
 "nbformat": 4,
 "nbformat_minor": 2
}
