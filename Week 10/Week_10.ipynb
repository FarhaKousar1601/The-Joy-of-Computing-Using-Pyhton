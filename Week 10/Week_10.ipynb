{
 "cells": [
  {
   "cell_type": "markdown",
   "metadata": {},
   "source": [
    "<br>\n",
    "\n",
    "# <center><b>WEEK - 10</b></center>\n",
    "\n",
    "<br>\n"
   ]
  },
  {
   "cell_type": "markdown",
   "metadata": {},
   "source": [
    "---\n",
    "---\n",
    "\n",
    "# <b>FLAMES</b><br>\n",
    "\n",
    "---\n",
    "\n",
    "---\n"
   ]
  },
  {
   "cell_type": "markdown",
   "metadata": {},
   "source": [
    "![Alt text](image.png)\n"
   ]
  },
  {
   "cell_type": "markdown",
   "metadata": {},
   "source": [
    "![Alt text](image-1.png)\n"
   ]
  },
  {
   "cell_type": "markdown",
   "metadata": {},
   "source": [
    "![Alt text](image-3.png)\n"
   ]
  },
  {
   "cell_type": "markdown",
   "metadata": {},
   "source": [
    "![Alt text](image-4.png)\n"
   ]
  },
  {
   "cell_type": "markdown",
   "metadata": {},
   "source": [
    "![Alt text](image-5.png)\n"
   ]
  },
  {
   "cell_type": "markdown",
   "metadata": {},
   "source": [
    "![Alt text](image-2.png)\n"
   ]
  },
  {
   "cell_type": "code",
   "execution_count": 22,
   "metadata": {},
   "outputs": [
    {
     "name": "stdout",
     "output_type": "stream",
     "text": [
      "String:  Avinash Yadav\n",
      "Lower Case:  avinash yadav\n",
      "Upper Case:  AVINASH YADAV\n",
      "Capitalize Case:  Avinash yadav\n",
      "\n",
      "\n",
      "['A', 'v', 'i', 'n', 'a', 's', 'h', ' ', 'Y', 'a', 'd', 'a', 'v']\n",
      "7\n",
      "1\n",
      "Avinash@Yadav\n",
      "Avin#sh Y#d#v\n",
      "A$inash Yadav\n",
      "A$inash Yada$\n"
     ]
    }
   ],
   "source": [
    "import string\n",
    "\n",
    "str = \"Avinash Yadav\"\n",
    "\n",
    "print(\"String: \", str)\n",
    "print(\"Lower Case: \", str.lower())\n",
    "print(\"Upper Case: \", str.upper())\n",
    "print(\"Capitalize Case: \", str.capitalize())\n",
    "\n",
    "print()\n",
    "print()\n",
    "\n",
    "\n",
    "str_list = list(str)\n",
    "print(str_list)\n",
    "\n",
    "print(str_list.index(\" \"))\n",
    "print(str_list.index(\"v\"))          # Return first index of value occurance.\n",
    "# Raises ValueError if the value is not present\n",
    "# print(str_list.index(\"V\"))          # ValueError: 'V' is not in list\n",
    "\n",
    "# Return a copy with all occurrences of substring old replaced by new.\n",
    "print(str.replace(\" \", \"@\"))\n",
    "print(str.replace(\"a\", \"#\"))        # Maximum number of occurrences to replace.\n",
    "# -1 (the default value) means replace all occurrences.\n",
    "# If the optional argument count is given, only the first count occurrences are replaced.\n",
    "print(str.replace(\"v\", \"$\", 1))\n",
    "print(str.replace(\"v\", \"$\", -1))"
   ]
  },
  {
   "cell_type": "code",
   "execution_count": null,
   "metadata": {},
   "outputs": [],
   "source": [
    "def remove_matching_letters(list_player_1, list_player_2):\n",
    "\n",
    "    # Iterating through player_1 name list:\n",
    "    for i in range(len(list_player_1)):\n",
    "\n",
    "        # Iterating through player_2 name list:\n",
    "        for j in range(len(list_player_2)):\n",
    "\n",
    "            # Checking the each letters from both the list\n",
    "            if list_player_1[i] == list_player_2[j]:\n",
    "                common = list_player_1[i]\n",
    "                list_player_1.remove(common)\n",
    "                list_player_2.remove(common)\n",
    "\n",
    "                concat_list = list_player_1 + ['*'] + list_player_2\n",
    "                return [concat_list, True]\n",
    "\n",
    "    concat_list = list_player_1 + ['*'] + list_player_2\n",
    "    return [concat_list, False]\n",
    "\n",
    "\n",
    "# Taking user name as input\n",
    "# Converting all the letters in the name in lower case\n",
    "# Replacing/Removing the empty spaces\n",
    "player_1 = input(\"Enter Your Name Player_1: \").lower().replace(\" \", \"\")\n",
    "print(player_1)\n",
    "\n",
    "player_2 = input(\"Enter Your Name Player_2: \").lower().replace(\" \", \"\")\n",
    "print(player_2)\n",
    "\n",
    "\n",
    "# Converting the player name in list of character\n",
    "list_player_1 = list(player_1)\n",
    "list_player_2 = list(player_2)\n",
    "\n",
    "\n",
    "proceed = True\n",
    "while proceed:\n",
    "    returned_list = remove_matching_letters(list_player_1, list_player_2)\n",
    "    concat_list = returned_list[0]\n",
    "    proceed = concat_list[1]\n",
    "    star_index = concat_list.index('*')\n",
    "    list_player_1 = concat_list[: star_index]\n",
    "    list_player_2 = concat_list[star_index+1:]\n",
    "\n",
    "\n",
    "count = len(list_player_1) + len(list_player_2)\n",
    "\n",
    "result = ['Friend', 'Love', 'Affection', 'Marriage', 'Enemy', 'Siblings']\n",
    "\n",
    "while len(result) > 1:\n",
    "    split_index = (count % len(result)) - 1\n",
    "\n",
    "    if split_index >= 0:\n",
    "        right = result[split_index+1:]\n",
    "        left = result[: split_index]\n",
    "        result = right + left\n",
    "\n",
    "    else:\n",
    "        result = result[:len(result)-1]\n",
    "\n",
    "\n",
    "print(\"The relationship between Player 1 and Player 2 is:\", result[0])"
   ]
  },
  {
   "cell_type": "markdown",
   "metadata": {},
   "source": [
    "<br><br><br><br><br><br>\n",
    "\n",
    "---\n",
    "\n",
    "---\n",
    "\n",
    "# <b>DATA COMPRESSION</b><br>\n",
    "\n",
    "---\n",
    "\n",
    "---\n"
   ]
  },
  {
   "cell_type": "markdown",
   "metadata": {},
   "source": [
    "![Alt text](image-7.png)\n"
   ]
  },
  {
   "cell_type": "markdown",
   "metadata": {},
   "source": [
    "![Alt text](image-6.png)\n"
   ]
  },
  {
   "cell_type": "markdown",
   "metadata": {},
   "source": [
    "## BASIC OVERVIEW OF NUMPY LIBRARY:\n"
   ]
  },
  {
   "cell_type": "code",
   "execution_count": 26,
   "metadata": {},
   "outputs": [
    {
     "name": "stdout",
     "output_type": "stream",
     "text": [
      "----------------------------\n",
      "\n",
      "[1 2 3]\n",
      "\n",
      "<class 'numpy.ndarray'>\n",
      "\n",
      "int32\n",
      "\n",
      "(3,)\n",
      "\n",
      "2\n",
      "\n",
      "100\n",
      "\n",
      "----------------------------\n",
      "\n",
      "[[1 2 3]\n",
      " [4 5 6]]\n",
      "\n",
      "<class 'numpy.ndarray'>\n",
      "\n",
      "(2, 3)\n",
      "\n",
      "[4 5 6]\n",
      "\n",
      "[100 100 100]\n",
      "\n",
      "----------------------------\n",
      "\n"
     ]
    }
   ],
   "source": [
    "import numpy as np\n",
    "\n",
    "print(\"----------------------------\")\n",
    "print()\n",
    "\n",
    "arr1 = np.array([1, 2, 3])\n",
    "\n",
    "print(arr1)\n",
    "print()\n",
    "\n",
    "print(type(arr1))\n",
    "print()\n",
    "\n",
    "print(arr1.dtype)\n",
    "print()\n",
    "\n",
    "print(arr1.shape)\n",
    "print()\n",
    "\n",
    "print(arr1[1])\n",
    "print()\n",
    "\n",
    "arr1[1] = 100\n",
    "print(arr1[1])\n",
    "print()\n",
    "print(\"----------------------------\")\n",
    "print()\n",
    "\n",
    "\n",
    "arr2 = np.array([[1, 2, 3], [4, 5, 6]])\n",
    "\n",
    "print(arr2)\n",
    "print()\n",
    "\n",
    "print(type(arr2))\n",
    "print()\n",
    "\n",
    "print(arr2.shape)\n",
    "print()\n",
    "\n",
    "print(arr2[1])\n",
    "print()\n",
    "\n",
    "arr2[1] = 100\n",
    "print(arr2[1])\n",
    "print()\n",
    "print(\"----------------------------\")\n",
    "print()"
   ]
  },
  {
   "cell_type": "code",
   "execution_count": 32,
   "metadata": {},
   "outputs": [
    {
     "name": "stdout",
     "output_type": "stream",
     "text": [
      "[[0. 0.]\n",
      " [0. 0.]]\n",
      "float64\n",
      "\n",
      "[[1. 1.]\n",
      " [1. 1.]]\n",
      "float64\n",
      "\n",
      "[[10 10]\n",
      " [10 10]]\n",
      "int32\n",
      "\n",
      "[[10 10]\n",
      " [10 10]]\n",
      "int64\n",
      "\n",
      "[[0.1431192  0.51822074]\n",
      " [0.32565461 0.02721341]]\n",
      "float64\n"
     ]
    }
   ],
   "source": [
    "arrZERO = np.zeros((2, 2))\n",
    "print(arrZERO)\n",
    "print(arrZERO.dtype)\n",
    "print()\n",
    "\n",
    "arrONE = np.ones((2, 2))\n",
    "print(arrONE)\n",
    "print(arrONE.dtype)\n",
    "print()\n",
    "\n",
    "arrFULL1 = np.full((2, 2), 10)\n",
    "print(arrFULL1)\n",
    "print(arrFULL1.dtype)\n",
    "print()\n",
    "\n",
    "arrFULL2 = np.full((2, 2), 10, dtype=np.int64)\n",
    "print(arrFULL2)\n",
    "print(arrFULL2.dtype)\n",
    "print()\n",
    "\n",
    "arrRANDOM = np.random.random((2, 2))\n",
    "print(arrRANDOM)\n",
    "print(arrRANDOM.dtype)"
   ]
  },
  {
   "cell_type": "code",
   "execution_count": 48,
   "metadata": {},
   "outputs": [
    {
     "name": "stdout",
     "output_type": "stream",
     "text": [
      "X = \n",
      " [[1. 2.]\n",
      " [3. 4.]]\n",
      "\n",
      "Y = \n",
      " [[5. 6.]\n",
      " [7. 8.]]\n",
      "\n",
      "X + Y = \n",
      " [[ 6.  8.]\n",
      " [10. 12.]]\n",
      "\n",
      "X + Y = \n",
      " [[ 6.  8.]\n",
      " [10. 12.]]\n",
      "\n",
      "X - Y = \n",
      " [[-4. -4.]\n",
      " [-4. -4.]]\n",
      "\n",
      "X - Y = \n",
      " [[-4. -4.]\n",
      " [-4. -4.]]\n",
      "\n",
      "X * Y = \n",
      " [[ 5. 12.]\n",
      " [21. 32.]]\n",
      "\n",
      "X / Y = \n",
      " [[0.2        0.33333333]\n",
      " [0.42857143 0.5       ]]\n"
     ]
    }
   ],
   "source": [
    "x = np.array([[1, 2], [3, 4]], dtype=np.float64)\n",
    "y = np.array([[5, 6], [7, 8]], dtype=np.float64)\n",
    "\n",
    "print(\"X = \\n\", x)\n",
    "print()\n",
    "\n",
    "print(\"Y = \\n\", y)\n",
    "print()\n",
    "\n",
    "print(\"X + Y = \\n\", x+y)\n",
    "print()\n",
    "\n",
    "print(\"X + Y = \\n\", np.add(x, y))\n",
    "print()\n",
    "\n",
    "print(\"X - Y = \\n\", x-y)\n",
    "print()\n",
    "\n",
    "print(\"X - Y = \\n\", np.subtract(x, y))\n",
    "print()\n",
    "\n",
    "print(\"X * Y = \\n\", np.multiply(x, y))\n",
    "print()\n",
    "\n",
    "print(\"X / Y = \\n\", np.divide(x, y))"
   ]
  },
  {
   "cell_type": "markdown",
   "metadata": {},
   "source": [
    "## LOSSY IMAGE COMPRESSION\n"
   ]
  },
  {
   "cell_type": "markdown",
   "metadata": {},
   "source": [
    "![Alt text](image-8.png)\n"
   ]
  },
  {
   "cell_type": "code",
   "execution_count": null,
   "metadata": {},
   "outputs": [],
   "source": [
    "import numpy as np\n",
    "from PIL import Image\n",
    "\n",
    "# Original size of the image before compression: 324.7 kb\n",
    "im = Image.open(\"image-8.png\")\n",
    "\n",
    "pixelMap = im.load()\n",
    "\n",
    "image_matrix = np.array(Image.open(\"image-8.png\"))\n",
    "# print(image_matrix)\n",
    "\n",
    "# Creating a new image with the same size as the original image:\n",
    "img = Image.new(im.mode, im.size)\n",
    "\n",
    "pixelNew = img.load()\n",
    "\n",
    "'''\n",
    "2^8 = 256\n",
    "2^5 = 32\n",
    "\n",
    "0-31 = 0\n",
    "32-63 = 1\n",
    "64-95 = 2\n",
    "96-127 = 3\n",
    "128-159 = 4\n",
    "160-191 = 5\n",
    "192-223 = 6\n",
    "224-255 = 7\n",
    "'''\n",
    "\n",
    "for i in range(img.size[0]):\n",
    "    for j in range(img.size[1]):\n",
    "        if (pixelMap[i, j] >= 0 and pixelMap[i, j] <= 31):\n",
    "            pixelNew[i, j] = 0\n",
    "\n",
    "        elif (pixelMap[i, j] >= 32 and pixelMap[i, j] <= 63):\n",
    "            pixelNew[i, j] = 1\n",
    "\n",
    "        elif (pixelMap[i, j] >= 64 and pixelMap[i, j] <= 95):\n",
    "            pixelNew[i, j] = 2\n",
    "\n",
    "        elif (pixelMap[i, j] >= 96 and pixelMap[i, j] <= 127):\n",
    "            pixelNew[i, j] = 3\n",
    "\n",
    "        elif (pixelMap[i, j] >= 128 and pixelMap[i, j] <= 159):\n",
    "            pixelNew[i, j] = 4\n",
    "\n",
    "        elif (pixelMap[i, j] >= 160 and pixelMap[i, j] <= 191):\n",
    "            pixelNew[i, j] = 5\n",
    "\n",
    "        elif (pixelMap[i, j] >= 192 and pixelMap[i, j] <= 223):\n",
    "            pixelNew[i, j] = 6\n",
    "\n",
    "        elif (pixelMap[i, j] >= 224 and pixelMap[i, j] <= 255):\n",
    "            pixelNew[i, j] = 7\n",
    "\n",
    "img.save(\"compressedIMG.png\")\n",
    "\n",
    "compressedImage = np.asanyarray(Image.open(\"compressedIMG.png\"))"
   ]
  },
  {
   "cell_type": "markdown",
   "metadata": {},
   "source": [
    "<br><br><br><br><br><br><br><br>\n",
    "\n",
    "---\n",
    "---\n",
    "\n",
    "> <br><br><br><br>\n",
    ">\n",
    "> # <center><b>Week 10: Assignment</b></center>\n",
    ">\n",
    "> <br><br><br><br>\n",
    "\n",
    "---\n",
    "\n",
    "---\n"
   ]
  },
  {
   "cell_type": "markdown",
   "metadata": {},
   "source": [
    "## <center><b>QUESTION - 01</b></center>\n"
   ]
  },
  {
   "cell_type": "markdown",
   "metadata": {},
   "source": [
    "# D"
   ]
  },
  {
   "cell_type": "code",
   "execution_count": 67,
   "metadata": {},
   "outputs": [
    {
     "name": "stdout",
     "output_type": "stream",
     "text": [
      "hello everyone\n"
     ]
    }
   ],
   "source": [
    "s = \"Hello Everyone\"\n",
    "print(s.lower())"
   ]
  },
  {
   "cell_type": "markdown",
   "metadata": {},
   "source": [
    "## <center><b>QUESTION - 02</b></center>\n"
   ]
  },
  {
   "cell_type": "markdown",
   "metadata": {},
   "source": [
    "# A"
   ]
  },
  {
   "cell_type": "markdown",
   "metadata": {},
   "source": [
    "## <center><b>QUESTION - 03</b></center>\n"
   ]
  },
  {
   "cell_type": "markdown",
   "metadata": {},
   "source": [
    "# C"
   ]
  },
  {
   "cell_type": "code",
   "execution_count": 68,
   "metadata": {},
   "outputs": [
    {
     "name": "stdout",
     "output_type": "stream",
     "text": [
      ".h.e.l..l.o\n"
     ]
    }
   ],
   "source": [
    "a = ['', 'h', 'e', 'l', '', 'l', 'o']\n",
    "print('.'.join(a))"
   ]
  },
  {
   "cell_type": "markdown",
   "metadata": {},
   "source": [
    "## <center><b>QUESTION - 04</b></center>\n"
   ]
  },
  {
   "cell_type": "markdown",
   "metadata": {},
   "source": [
    "# D"
   ]
  },
  {
   "cell_type": "code",
   "execution_count": 72,
   "metadata": {},
   "outputs": [
    {
     "name": "stdout",
     "output_type": "stream",
     "text": [
      "Th_ j_y _f C_mp_t_ng\n"
     ]
    }
   ],
   "source": [
    "s = 'The joy of Computing'\n",
    "\n",
    "s = s.replace('a' , '_')\n",
    "s = s.replace('e' , '_')\n",
    "s = s.replace('i' , '_')\n",
    "s = s.replace('o' , '_')\n",
    "s = s.replace('u' , '_')\n",
    "\n",
    "print(s)"
   ]
  },
  {
   "cell_type": "markdown",
   "metadata": {},
   "source": [
    "## <center><b>QUESTION - 05</b></center>\n"
   ]
  },
  {
   "cell_type": "markdown",
   "metadata": {},
   "source": [
    "# B"
   ]
  },
  {
   "cell_type": "code",
   "execution_count": 73,
   "metadata": {},
   "outputs": [
    {
     "name": "stdout",
     "output_type": "stream",
     "text": [
      " Joy of C\n"
     ]
    }
   ],
   "source": [
    "s = 'The Joy of Computing'\n",
    "\n",
    "print(s[3:12])"
   ]
  },
  {
   "cell_type": "markdown",
   "metadata": {},
   "source": [
    "## <center><b>QUESTION - 06</b></center>\n"
   ]
  },
  {
   "cell_type": "markdown",
   "metadata": {},
   "source": [
    "# C"
   ]
  },
  {
   "cell_type": "code",
   "execution_count": 75,
   "metadata": {},
   "outputs": [
    {
     "name": "stdout",
     "output_type": "stream",
     "text": [
      "0\n",
      "2\n",
      "4\n",
      "6\n",
      "8\n",
      "10\n",
      "Sh_h_r m_in\n"
     ]
    }
   ],
   "source": [
    "s = 'Sheher mein'\n",
    "a = 'aeiouAEIOU'\n",
    "for i in range(len(s)):\n",
    "    if(s.index(s[i])%2 == 0):\n",
    "        print(i)\n",
    "        if(s[i] in a):\n",
    "            s = s.replace(s[i], '_')\n",
    "            \n",
    "print(s)"
   ]
  },
  {
   "cell_type": "markdown",
   "metadata": {},
   "source": [
    "## <center><b>QUESTION - 07</b></center>\n"
   ]
  },
  {
   "cell_type": "markdown",
   "metadata": {},
   "source": [
    "# B"
   ]
  },
  {
   "cell_type": "code",
   "execution_count": 76,
   "metadata": {},
   "outputs": [
    {
     "name": "stdout",
     "output_type": "stream",
     "text": [
      "[3 7]\n"
     ]
    }
   ],
   "source": [
    "import numpy as np\n",
    "\n",
    "b = np.array([[1, 2], [3, 4]])\n",
    "\n",
    "print(np.sum(b, axis = 1))"
   ]
  },
  {
   "cell_type": "markdown",
   "metadata": {},
   "source": [
    "## <center><b>QUESTION - 08</b></center>\n"
   ]
  },
  {
   "cell_type": "markdown",
   "metadata": {},
   "source": [
    "# C"
   ]
  },
  {
   "cell_type": "code",
   "execution_count": 77,
   "metadata": {},
   "outputs": [
    {
     "name": "stdout",
     "output_type": "stream",
     "text": [
      "[[1 3]\n",
      " [2 4]]\n"
     ]
    }
   ],
   "source": [
    "import numpy as np\n",
    "\n",
    "b = b = np.array([[1, 2], [3, 4]])\n",
    "\n",
    "print(b.T)"
   ]
  },
  {
   "cell_type": "markdown",
   "metadata": {},
   "source": [
    "## <center><b>QUESTION - 09</b></center>"
   ]
  },
  {
   "cell_type": "markdown",
   "metadata": {},
   "source": [
    "# B"
   ]
  },
  {
   "cell_type": "markdown",
   "metadata": {},
   "source": [
    "## <center><b>QUESTION - 10</b></center>\n"
   ]
  },
  {
   "cell_type": "markdown",
   "metadata": {},
   "source": [
    "# A"
   ]
  },
  {
   "cell_type": "code",
   "execution_count": 78,
   "metadata": {},
   "outputs": [
    {
     "name": "stdout",
     "output_type": "stream",
     "text": [
      "(2, 3)\n"
     ]
    }
   ],
   "source": [
    "import numpy as np\n",
    "\n",
    "arr = np.array([[1, 2, 3], [4, 5, 6]])\n",
    "\n",
    "print(arr.shape)"
   ]
  },
  {
   "cell_type": "markdown",
   "metadata": {},
   "source": [
    "## <center><b>QUESTION - 11</b></center>\n"
   ]
  },
  {
   "cell_type": "markdown",
   "metadata": {},
   "source": [
    "# C"
   ]
  },
  {
   "cell_type": "code",
   "execution_count": 79,
   "metadata": {},
   "outputs": [
    {
     "name": "stdout",
     "output_type": "stream",
     "text": [
      "[[ 7  7 17]\n",
      " [ 6 26 16]]\n"
     ]
    }
   ],
   "source": [
    "import numpy as np\n",
    "\n",
    "a = np.array([[8, 9, 20], [10, 31, 22]])\n",
    "b = np.array([[1, 2, 3], [4, 5, 6]])\n",
    "\n",
    "print(a-b)"
   ]
  },
  {
   "cell_type": "markdown",
   "metadata": {},
   "source": [
    "<br><br><br><br>\n",
    "\n",
    "---\n",
    "---\n",
    "\n",
    "<br><br>\n",
    "\n",
    "# <center><b> PROGRAMMING ASSIGNMENT - 01:</b></center>\n",
    "\n",
    "<br><br>\n"
   ]
  },
  {
   "cell_type": "markdown",
   "metadata": {},
   "source": []
  },
  {
   "cell_type": "markdown",
   "metadata": {},
   "source": [
    "<br><br><br><br>\n",
    "\n",
    "---\n",
    "---\n",
    "\n",
    "<br><br>\n",
    "\n",
    "# <center><b> PROGRAMMING ASSIGNMENT - 02:</b></center>\n",
    "\n",
    "<br><br>\n"
   ]
  },
  {
   "cell_type": "markdown",
   "metadata": {},
   "source": []
  },
  {
   "cell_type": "markdown",
   "metadata": {},
   "source": [
    "<br><br><br><br>\n",
    "\n",
    "---\n",
    "---\n",
    "\n",
    "<br><br>\n",
    "\n",
    "# <center><b> PROGRAMMING ASSIGNMENT - 03:</b></center>\n",
    "\n",
    "<br><br>\n"
   ]
  },
  {
   "cell_type": "markdown",
   "metadata": {},
   "source": []
  }
 ],
 "metadata": {
  "kernelspec": {
   "display_name": "Python 3",
   "language": "python",
   "name": "python3"
  },
  "language_info": {
   "codemirror_mode": {
    "name": "ipython",
    "version": 3
   },
   "file_extension": ".py",
   "mimetype": "text/x-python",
   "name": "python",
   "nbconvert_exporter": "python",
   "pygments_lexer": "ipython3",
   "version": "3.11.5"
  },
  "orig_nbformat": 4
 },
 "nbformat": 4,
 "nbformat_minor": 2
}
